{
 "cells": [
  {
   "cell_type": "code",
   "execution_count": 15,
   "metadata": {},
   "outputs": [
    {
     "name": "stderr",
     "output_type": "stream",
     "text": [
      "/Users/xuan/anaconda/lib/python2.7/site-packages/h5py/__init__.py:36: FutureWarning: Conversion of the second argument of issubdtype from `float` to `np.floating` is deprecated. In future, it will be treated as `np.float64 == np.dtype(float).type`.\n",
      "  from ._conv import register_converters as _register_converters\n"
     ]
    }
   ],
   "source": [
    "import pandas as pd\n",
    "import numpy as np\n",
    "import matplotlib.pyplot as plt\n",
    "%matplotlib inline \n",
    "\n",
    "from sklearn.cluster import KMeans\n",
    "\n",
    "from pandas.tseries.holiday import USFederalHolidayCalendar\n",
    "from pandas.tseries.offsets import CustomBusinessDay\n",
    "from datetime import timedelta\n",
    "from sklearn.decomposition import PCA\n",
    "\n",
    "import haversine\n",
    "import tensorflow as tf\n",
    "from sklearn.model_selection import train_test_split"
   ]
  },
  {
   "cell_type": "code",
   "execution_count": 16,
   "metadata": {
    "collapsed": true
   },
   "outputs": [],
   "source": [
    "train=pd.read_csv(\"train.csv\")\n",
    "test=pd.read_csv(\"test.csv\")"
   ]
  },
  {
   "cell_type": "code",
   "execution_count": 4,
   "metadata": {},
   "outputs": [
    {
     "data": {
      "text/html": [
       "<div>\n",
       "<style>\n",
       "    .dataframe thead tr:only-child th {\n",
       "        text-align: right;\n",
       "    }\n",
       "\n",
       "    .dataframe thead th {\n",
       "        text-align: left;\n",
       "    }\n",
       "\n",
       "    .dataframe tbody tr th {\n",
       "        vertical-align: top;\n",
       "    }\n",
       "</style>\n",
       "<table border=\"1\" class=\"dataframe\">\n",
       "  <thead>\n",
       "    <tr style=\"text-align: right;\">\n",
       "      <th></th>\n",
       "      <th>id</th>\n",
       "      <th>vendor_id</th>\n",
       "      <th>pickup_datetime</th>\n",
       "      <th>dropoff_datetime</th>\n",
       "      <th>passenger_count</th>\n",
       "      <th>pickup_longitude</th>\n",
       "      <th>pickup_latitude</th>\n",
       "      <th>dropoff_longitude</th>\n",
       "      <th>dropoff_latitude</th>\n",
       "      <th>store_and_fwd_flag</th>\n",
       "      <th>trip_duration</th>\n",
       "    </tr>\n",
       "  </thead>\n",
       "  <tbody>\n",
       "    <tr>\n",
       "      <th>0</th>\n",
       "      <td>id2875421</td>\n",
       "      <td>2</td>\n",
       "      <td>2016-03-14 17:24:55</td>\n",
       "      <td>2016-03-14 17:32:30</td>\n",
       "      <td>1</td>\n",
       "      <td>-73.982155</td>\n",
       "      <td>40.767937</td>\n",
       "      <td>-73.964630</td>\n",
       "      <td>40.765602</td>\n",
       "      <td>N</td>\n",
       "      <td>455</td>\n",
       "    </tr>\n",
       "    <tr>\n",
       "      <th>1</th>\n",
       "      <td>id2377394</td>\n",
       "      <td>1</td>\n",
       "      <td>2016-06-12 00:43:35</td>\n",
       "      <td>2016-06-12 00:54:38</td>\n",
       "      <td>1</td>\n",
       "      <td>-73.980415</td>\n",
       "      <td>40.738564</td>\n",
       "      <td>-73.999481</td>\n",
       "      <td>40.731152</td>\n",
       "      <td>N</td>\n",
       "      <td>663</td>\n",
       "    </tr>\n",
       "    <tr>\n",
       "      <th>2</th>\n",
       "      <td>id3858529</td>\n",
       "      <td>2</td>\n",
       "      <td>2016-01-19 11:35:24</td>\n",
       "      <td>2016-01-19 12:10:48</td>\n",
       "      <td>1</td>\n",
       "      <td>-73.979027</td>\n",
       "      <td>40.763939</td>\n",
       "      <td>-74.005333</td>\n",
       "      <td>40.710087</td>\n",
       "      <td>N</td>\n",
       "      <td>2124</td>\n",
       "    </tr>\n",
       "    <tr>\n",
       "      <th>3</th>\n",
       "      <td>id3504673</td>\n",
       "      <td>2</td>\n",
       "      <td>2016-04-06 19:32:31</td>\n",
       "      <td>2016-04-06 19:39:40</td>\n",
       "      <td>1</td>\n",
       "      <td>-74.010040</td>\n",
       "      <td>40.719971</td>\n",
       "      <td>-74.012268</td>\n",
       "      <td>40.706718</td>\n",
       "      <td>N</td>\n",
       "      <td>429</td>\n",
       "    </tr>\n",
       "    <tr>\n",
       "      <th>4</th>\n",
       "      <td>id2181028</td>\n",
       "      <td>2</td>\n",
       "      <td>2016-03-26 13:30:55</td>\n",
       "      <td>2016-03-26 13:38:10</td>\n",
       "      <td>1</td>\n",
       "      <td>-73.973053</td>\n",
       "      <td>40.793209</td>\n",
       "      <td>-73.972923</td>\n",
       "      <td>40.782520</td>\n",
       "      <td>N</td>\n",
       "      <td>435</td>\n",
       "    </tr>\n",
       "  </tbody>\n",
       "</table>\n",
       "</div>"
      ],
      "text/plain": [
       "          id  vendor_id      pickup_datetime     dropoff_datetime  \\\n",
       "0  id2875421          2  2016-03-14 17:24:55  2016-03-14 17:32:30   \n",
       "1  id2377394          1  2016-06-12 00:43:35  2016-06-12 00:54:38   \n",
       "2  id3858529          2  2016-01-19 11:35:24  2016-01-19 12:10:48   \n",
       "3  id3504673          2  2016-04-06 19:32:31  2016-04-06 19:39:40   \n",
       "4  id2181028          2  2016-03-26 13:30:55  2016-03-26 13:38:10   \n",
       "\n",
       "   passenger_count  pickup_longitude  pickup_latitude  dropoff_longitude  \\\n",
       "0                1        -73.982155        40.767937         -73.964630   \n",
       "1                1        -73.980415        40.738564         -73.999481   \n",
       "2                1        -73.979027        40.763939         -74.005333   \n",
       "3                1        -74.010040        40.719971         -74.012268   \n",
       "4                1        -73.973053        40.793209         -73.972923   \n",
       "\n",
       "   dropoff_latitude store_and_fwd_flag  trip_duration  \n",
       "0         40.765602                  N            455  \n",
       "1         40.731152                  N            663  \n",
       "2         40.710087                  N           2124  \n",
       "3         40.706718                  N            429  \n",
       "4         40.782520                  N            435  "
      ]
     },
     "execution_count": 4,
     "metadata": {},
     "output_type": "execute_result"
    }
   ],
   "source": [
    "train.head()"
   ]
  },
  {
   "cell_type": "code",
   "execution_count": 5,
   "metadata": {},
   "outputs": [
    {
     "data": {
      "text/html": [
       "<div>\n",
       "<style>\n",
       "    .dataframe thead tr:only-child th {\n",
       "        text-align: right;\n",
       "    }\n",
       "\n",
       "    .dataframe thead th {\n",
       "        text-align: left;\n",
       "    }\n",
       "\n",
       "    .dataframe tbody tr th {\n",
       "        vertical-align: top;\n",
       "    }\n",
       "</style>\n",
       "<table border=\"1\" class=\"dataframe\">\n",
       "  <thead>\n",
       "    <tr style=\"text-align: right;\">\n",
       "      <th></th>\n",
       "      <th>id</th>\n",
       "      <th>vendor_id</th>\n",
       "      <th>pickup_datetime</th>\n",
       "      <th>passenger_count</th>\n",
       "      <th>pickup_longitude</th>\n",
       "      <th>pickup_latitude</th>\n",
       "      <th>dropoff_longitude</th>\n",
       "      <th>dropoff_latitude</th>\n",
       "      <th>store_and_fwd_flag</th>\n",
       "    </tr>\n",
       "  </thead>\n",
       "  <tbody>\n",
       "    <tr>\n",
       "      <th>0</th>\n",
       "      <td>id3004672</td>\n",
       "      <td>1</td>\n",
       "      <td>2016-06-30 23:59:58</td>\n",
       "      <td>1</td>\n",
       "      <td>-73.988129</td>\n",
       "      <td>40.732029</td>\n",
       "      <td>-73.990173</td>\n",
       "      <td>40.756680</td>\n",
       "      <td>N</td>\n",
       "    </tr>\n",
       "    <tr>\n",
       "      <th>1</th>\n",
       "      <td>id3505355</td>\n",
       "      <td>1</td>\n",
       "      <td>2016-06-30 23:59:53</td>\n",
       "      <td>1</td>\n",
       "      <td>-73.964203</td>\n",
       "      <td>40.679993</td>\n",
       "      <td>-73.959808</td>\n",
       "      <td>40.655403</td>\n",
       "      <td>N</td>\n",
       "    </tr>\n",
       "    <tr>\n",
       "      <th>2</th>\n",
       "      <td>id1217141</td>\n",
       "      <td>1</td>\n",
       "      <td>2016-06-30 23:59:47</td>\n",
       "      <td>1</td>\n",
       "      <td>-73.997437</td>\n",
       "      <td>40.737583</td>\n",
       "      <td>-73.986160</td>\n",
       "      <td>40.729523</td>\n",
       "      <td>N</td>\n",
       "    </tr>\n",
       "    <tr>\n",
       "      <th>3</th>\n",
       "      <td>id2150126</td>\n",
       "      <td>2</td>\n",
       "      <td>2016-06-30 23:59:41</td>\n",
       "      <td>1</td>\n",
       "      <td>-73.956070</td>\n",
       "      <td>40.771900</td>\n",
       "      <td>-73.986427</td>\n",
       "      <td>40.730469</td>\n",
       "      <td>N</td>\n",
       "    </tr>\n",
       "    <tr>\n",
       "      <th>4</th>\n",
       "      <td>id1598245</td>\n",
       "      <td>1</td>\n",
       "      <td>2016-06-30 23:59:33</td>\n",
       "      <td>1</td>\n",
       "      <td>-73.970215</td>\n",
       "      <td>40.761475</td>\n",
       "      <td>-73.961510</td>\n",
       "      <td>40.755890</td>\n",
       "      <td>N</td>\n",
       "    </tr>\n",
       "  </tbody>\n",
       "</table>\n",
       "</div>"
      ],
      "text/plain": [
       "          id  vendor_id      pickup_datetime  passenger_count  \\\n",
       "0  id3004672          1  2016-06-30 23:59:58                1   \n",
       "1  id3505355          1  2016-06-30 23:59:53                1   \n",
       "2  id1217141          1  2016-06-30 23:59:47                1   \n",
       "3  id2150126          2  2016-06-30 23:59:41                1   \n",
       "4  id1598245          1  2016-06-30 23:59:33                1   \n",
       "\n",
       "   pickup_longitude  pickup_latitude  dropoff_longitude  dropoff_latitude  \\\n",
       "0        -73.988129        40.732029         -73.990173         40.756680   \n",
       "1        -73.964203        40.679993         -73.959808         40.655403   \n",
       "2        -73.997437        40.737583         -73.986160         40.729523   \n",
       "3        -73.956070        40.771900         -73.986427         40.730469   \n",
       "4        -73.970215        40.761475         -73.961510         40.755890   \n",
       "\n",
       "  store_and_fwd_flag  \n",
       "0                  N  \n",
       "1                  N  \n",
       "2                  N  \n",
       "3                  N  \n",
       "4                  N  "
      ]
     },
     "execution_count": 5,
     "metadata": {},
     "output_type": "execute_result"
    }
   ],
   "source": [
    "test.head()"
   ]
  },
  {
   "cell_type": "code",
   "execution_count": 6,
   "metadata": {},
   "outputs": [
    {
     "data": {
      "text/plain": [
       "(1458644, 11)"
      ]
     },
     "execution_count": 6,
     "metadata": {},
     "output_type": "execute_result"
    }
   ],
   "source": [
    "train.shape"
   ]
  },
  {
   "cell_type": "code",
   "execution_count": 7,
   "metadata": {},
   "outputs": [
    {
     "data": {
      "text/plain": [
       "(625134, 9)"
      ]
     },
     "execution_count": 7,
     "metadata": {},
     "output_type": "execute_result"
    }
   ],
   "source": [
    "test.shape"
   ]
  },
  {
   "cell_type": "code",
   "execution_count": 8,
   "metadata": {},
   "outputs": [
    {
     "name": "stdout",
     "output_type": "stream",
     "text": [
      "0\n",
      "0\n",
      "0\n"
     ]
    }
   ],
   "source": [
    "# Check for any duplicates\n",
    "print(train.duplicated().sum())\n",
    "print(train.id.duplicated().sum())\n",
    "print(test.id.duplicated().sum())"
   ]
  },
  {
   "cell_type": "code",
   "execution_count": 9,
   "metadata": {},
   "outputs": [
    {
     "data": {
      "text/plain": [
       "0"
      ]
     },
     "execution_count": 9,
     "metadata": {},
     "output_type": "execute_result"
    }
   ],
   "source": [
    "# Sanity check to ensure all trips are valid\n",
    "sum(train.pickup_datetime > train.dropoff_datetime)"
   ]
  },
  {
   "cell_type": "markdown",
   "metadata": {},
   "source": [
    "## clearning data"
   ]
  },
  {
   "cell_type": "code",
   "execution_count": 17,
   "metadata": {
    "collapsed": true
   },
   "outputs": [],
   "source": [
    "# drop feature since it will not be used to make any predictions.\n",
    "# it is not included in the test dataframe\n",
    "train=train.drop(\"dropoff_datetime\",1)"
   ]
  },
  {
   "cell_type": "code",
   "execution_count": 18,
   "metadata": {},
   "outputs": [
    {
     "data": {
      "text/plain": [
       "count    1.458644e+06\n",
       "mean     9.594923e+02\n",
       "std      5.237432e+03\n",
       "min      1.000000e+00\n",
       "25%      3.970000e+02\n",
       "50%      6.620000e+02\n",
       "75%      1.075000e+03\n",
       "max      3.526282e+06\n",
       "Name: trip_duration, dtype: float64"
      ]
     },
     "execution_count": 18,
     "metadata": {},
     "output_type": "execute_result"
    }
   ],
   "source": [
    "# Some of the journeys are very long,maybe outliers\n",
    "train.trip_duration.describe()"
   ]
  },
  {
   "cell_type": "code",
   "execution_count": 12,
   "metadata": {},
   "outputs": [
    {
     "name": "stdout",
     "output_type": "stream",
     "text": [
      "58771\n",
      "57.333333333333336\n",
      "68.98333333333333\n",
      "1438.7833333333333\n",
      "1439.4833333333333\n",
      "35765.9658686484\n"
     ]
    }
   ],
   "source": [
    "# outliers in minute\n",
    "print(train.trip_duration.max()/60)\n",
    "print(np.percentile(train.trip_duration,99)/60)\n",
    "print(np.percentile(train.trip_duration,99.5)/60)\n",
    "print(np.percentile(train.trip_duration, 99.99)/60)\n",
    "print(np.percentile(train.trip_duration, 99.999)/60)\n",
    "print(np.percentile(train.trip_duration, 99.9999)/60)"
   ]
  },
  {
   "cell_type": "code",
   "execution_count": 13,
   "metadata": {},
   "outputs": [
    {
     "name": "stdout",
     "output_type": "stream",
     "text": [
      "1444069\n",
      "1458505\n",
      "1458630\n"
     ]
    }
   ],
   "source": [
    "# Check how many trips remain with each limit\n",
    "print(len(train[train.trip_duration<=np.percentile(train.trip_duration,99)]))\n",
    "print(len(train[train.trip_duration<=np.percentile(train.trip_duration,99.99)]))\n",
    "print(len(train[train.trip_duration<=np.percentile(train.trip_duration,99.999)]))"
   ]
  },
  {
   "cell_type": "code",
   "execution_count": 19,
   "metadata": {
    "collapsed": true
   },
   "outputs": [],
   "source": [
    "# Remove outliers\n",
    "train = train[train.trip_duration <= np.percentile(train.trip_duration, 99.999)]"
   ]
  },
  {
   "cell_type": "code",
   "execution_count": 15,
   "metadata": {},
   "outputs": [
    {
     "data": {
      "text/plain": [
       "Text(0.5,1,u'Dropoff')"
      ]
     },
     "execution_count": 15,
     "metadata": {},
     "output_type": "execute_result"
    },
    {
     "data": {
      "image/png": "[encoded data removed]",
      "text/plain": [
       "<matplotlib.figure.Figure at 0x11b86cad0>"
      ]
     },
     "metadata": {},
     "output_type": "display_data"
    }
   ],
   "source": [
    "# outliers for location\n",
    "f,(ax1,ax2) =plt.subplots(1,2,figsize=(10,5))\n",
    "ax1.scatter(train.pickup_longitude[:100000],\n",
    "           train.pickup_latitude[:100000],\n",
    "           alpha=0.1)\n",
    "ax1.set_title(\"Pickup\")\n",
    "\n",
    "ax2.scatter(train.dropoff_longitude[:100000],\n",
    "           train.dropoff_latitude[:100000],\n",
    "           alpha=0.1)\n",
    "ax2.set_title(\"Dropoff\")"
   ]
  },
  {
   "cell_type": "code",
   "execution_count": 16,
   "metadata": {},
   "outputs": [
    {
     "name": "stdout",
     "output_type": "stream",
     "text": [
      "51.88108444213867\n",
      "34.359695434570305\n",
      "-61.33552932739258\n",
      "-121.93334197998048\n",
      "\n",
      "43.92102813720703\n",
      "32.1811408996582\n",
      "-61.33552932739258\n",
      "-121.9333038330078\n"
     ]
    }
   ],
   "source": [
    "# The values are not too wild, but we'll trim them back a little to be conservative\n",
    "print(train.pickup_latitude.max())\n",
    "print(train.pickup_latitude.min())\n",
    "print(train.pickup_longitude.max())\n",
    "print(train.pickup_longitude.min())\n",
    "print\n",
    "print(train.dropoff_latitude.max())\n",
    "print(train.dropoff_latitude.min())\n",
    "print(train.dropoff_longitude.max())\n",
    "print(train.dropoff_longitude.min())"
   ]
  },
  {
   "cell_type": "code",
   "execution_count": 20,
   "metadata": {
    "collapsed": true
   },
   "outputs": [],
   "source": [
    "# Find limits of location\n",
    "max_value = 99.999\n",
    "min_value = 0.001\n",
    "\n",
    "max_pickup_lat = np.percentile(train.pickup_latitude, max_value)\n",
    "min_pickup_lat = np.percentile(train.pickup_latitude, min_value)\n",
    "max_pickup_long = np.percentile(train.pickup_longitude, max_value)\n",
    "min_pickup_long = np.percentile(train.pickup_longitude, min_value)\n",
    "\n",
    "max_dropoff_lat = np.percentile(train.dropoff_latitude, max_value)\n",
    "min_dropoff_lat = np.percentile(train.dropoff_latitude, min_value)\n",
    "max_dropoff_long = np.percentile(train.dropoff_longitude, max_value)\n",
    "min_dropoff_long = np.percentile(train.dropoff_longitude, min_value)"
   ]
  },
  {
   "cell_type": "code",
   "execution_count": 21,
   "metadata": {
    "collapsed": true
   },
   "outputs": [],
   "source": [
    "# Remove extreme values\n",
    "train = train[(train.pickup_latitude <= max_pickup_lat) & (train.pickup_latitude >= min_pickup_lat)]\n",
    "train = train[(train.pickup_longitude <= max_pickup_long) & (train.pickup_longitude >= min_pickup_long)]\n",
    "\n",
    "train = train[(train.dropoff_latitude <= max_dropoff_lat) & (train.dropoff_latitude >= min_dropoff_lat)]\n",
    "train = train[(train.dropoff_longitude <= max_dropoff_long) & (train.dropoff_longitude >= min_dropoff_long)]"
   ]
  },
  {
   "cell_type": "code",
   "execution_count": 19,
   "metadata": {},
   "outputs": [
    {
     "data": {
      "text/plain": [
       "Text(0.5,1,u'Dropoff')"
      ]
     },
     "execution_count": 19,
     "metadata": {},
     "output_type": "execute_result"
    },
    {
     "data": {
      "image/png": "[encoded data removed]",
      "text/plain": [
       "<matplotlib.figure.Figure at 0x11bdf93d0>"
      ]
     },
     "metadata": {},
     "output_type": "display_data"
    }
   ],
   "source": [
    "f, (ax1, ax2) = plt.subplots(1, 2, sharey=True, figsize=(10, 5))\n",
    "ax1.scatter(train.pickup_longitude[:100000], \n",
    "            train.pickup_latitude[:100000],\n",
    "            alpha = 0.1)\n",
    "ax1.set_title('Pickup')\n",
    "ax2.scatter(train.dropoff_longitude[:100000], \n",
    "            train.dropoff_latitude[:100000],\n",
    "            alpha = 0.1)\n",
    "ax2.set_title('Dropoff')"
   ]
  },
  {
   "cell_type": "code",
   "execution_count": 22,
   "metadata": {
    "collapsed": true
   },
   "outputs": [],
   "source": [
    "# Concatenate the datasets for feature engineering\n",
    "df = pd.concat([train,test])"
   ]
  },
  {
   "cell_type": "code",
   "execution_count": 23,
   "metadata": {},
   "outputs": [
    {
     "data": {
      "text/plain": [
       "(2083716, 10)"
      ]
     },
     "execution_count": 23,
     "metadata": {},
     "output_type": "execute_result"
    }
   ],
   "source": [
    "df.shape"
   ]
  },
  {
   "cell_type": "code",
   "execution_count": 22,
   "metadata": {},
   "outputs": [
    {
     "data": {
      "text/html": [
       "<div>\n",
       "<style>\n",
       "    .dataframe thead tr:only-child th {\n",
       "        text-align: right;\n",
       "    }\n",
       "\n",
       "    .dataframe thead th {\n",
       "        text-align: left;\n",
       "    }\n",
       "\n",
       "    .dataframe tbody tr th {\n",
       "        vertical-align: top;\n",
       "    }\n",
       "</style>\n",
       "<table border=\"1\" class=\"dataframe\">\n",
       "  <thead>\n",
       "    <tr style=\"text-align: right;\">\n",
       "      <th></th>\n",
       "      <th>dropoff_latitude</th>\n",
       "      <th>dropoff_longitude</th>\n",
       "      <th>id</th>\n",
       "      <th>passenger_count</th>\n",
       "      <th>pickup_datetime</th>\n",
       "      <th>pickup_latitude</th>\n",
       "      <th>pickup_longitude</th>\n",
       "      <th>store_and_fwd_flag</th>\n",
       "      <th>trip_duration</th>\n",
       "      <th>vendor_id</th>\n",
       "    </tr>\n",
       "  </thead>\n",
       "  <tbody>\n",
       "    <tr>\n",
       "      <th>0</th>\n",
       "      <td>40.765602</td>\n",
       "      <td>-73.964630</td>\n",
       "      <td>id2875421</td>\n",
       "      <td>1</td>\n",
       "      <td>2016-03-14 17:24:55</td>\n",
       "      <td>40.767937</td>\n",
       "      <td>-73.982155</td>\n",
       "      <td>N</td>\n",
       "      <td>455.0</td>\n",
       "      <td>2</td>\n",
       "    </tr>\n",
       "    <tr>\n",
       "      <th>1</th>\n",
       "      <td>40.731152</td>\n",
       "      <td>-73.999481</td>\n",
       "      <td>id2377394</td>\n",
       "      <td>1</td>\n",
       "      <td>2016-06-12 00:43:35</td>\n",
       "      <td>40.738564</td>\n",
       "      <td>-73.980415</td>\n",
       "      <td>N</td>\n",
       "      <td>663.0</td>\n",
       "      <td>1</td>\n",
       "    </tr>\n",
       "    <tr>\n",
       "      <th>2</th>\n",
       "      <td>40.710087</td>\n",
       "      <td>-74.005333</td>\n",
       "      <td>id3858529</td>\n",
       "      <td>1</td>\n",
       "      <td>2016-01-19 11:35:24</td>\n",
       "      <td>40.763939</td>\n",
       "      <td>-73.979027</td>\n",
       "      <td>N</td>\n",
       "      <td>2124.0</td>\n",
       "      <td>2</td>\n",
       "    </tr>\n",
       "    <tr>\n",
       "      <th>3</th>\n",
       "      <td>40.706718</td>\n",
       "      <td>-74.012268</td>\n",
       "      <td>id3504673</td>\n",
       "      <td>1</td>\n",
       "      <td>2016-04-06 19:32:31</td>\n",
       "      <td>40.719971</td>\n",
       "      <td>-74.010040</td>\n",
       "      <td>N</td>\n",
       "      <td>429.0</td>\n",
       "      <td>2</td>\n",
       "    </tr>\n",
       "    <tr>\n",
       "      <th>4</th>\n",
       "      <td>40.782520</td>\n",
       "      <td>-73.972923</td>\n",
       "      <td>id2181028</td>\n",
       "      <td>1</td>\n",
       "      <td>2016-03-26 13:30:55</td>\n",
       "      <td>40.793209</td>\n",
       "      <td>-73.973053</td>\n",
       "      <td>N</td>\n",
       "      <td>435.0</td>\n",
       "      <td>2</td>\n",
       "    </tr>\n",
       "  </tbody>\n",
       "</table>\n",
       "</div>"
      ],
      "text/plain": [
       "   dropoff_latitude  dropoff_longitude         id  passenger_count  \\\n",
       "0         40.765602         -73.964630  id2875421                1   \n",
       "1         40.731152         -73.999481  id2377394                1   \n",
       "2         40.710087         -74.005333  id3858529                1   \n",
       "3         40.706718         -74.012268  id3504673                1   \n",
       "4         40.782520         -73.972923  id2181028                1   \n",
       "\n",
       "       pickup_datetime  pickup_latitude  pickup_longitude store_and_fwd_flag  \\\n",
       "0  2016-03-14 17:24:55        40.767937        -73.982155                  N   \n",
       "1  2016-06-12 00:43:35        40.738564        -73.980415                  N   \n",
       "2  2016-01-19 11:35:24        40.763939        -73.979027                  N   \n",
       "3  2016-04-06 19:32:31        40.719971        -74.010040                  N   \n",
       "4  2016-03-26 13:30:55        40.793209        -73.973053                  N   \n",
       "\n",
       "   trip_duration  vendor_id  \n",
       "0          455.0          2  \n",
       "1          663.0          1  \n",
       "2         2124.0          2  \n",
       "3          429.0          2  \n",
       "4          435.0          2  "
      ]
     },
     "execution_count": 22,
     "metadata": {},
     "output_type": "execute_result"
    }
   ],
   "source": [
    "df.head()"
   ]
  },
  {
   "cell_type": "code",
   "execution_count": 23,
   "metadata": {},
   "outputs": [
    {
     "data": {
      "text/plain": [
       "dropoff_latitude           0\n",
       "dropoff_longitude          0\n",
       "id                         0\n",
       "passenger_count            0\n",
       "pickup_datetime            0\n",
       "pickup_latitude            0\n",
       "pickup_longitude           0\n",
       "store_and_fwd_flag         0\n",
       "trip_duration         625134\n",
       "vendor_id                  0\n",
       "dtype: int64"
      ]
     },
     "execution_count": 23,
     "metadata": {},
     "output_type": "execute_result"
    }
   ],
   "source": [
    "# Check for null values\n",
    "# trip_duration nulls to due to them not being present in the test set\n",
    "df.isnull().sum()"
   ]
  },
  {
   "cell_type": "code",
   "execution_count": 24,
   "metadata": {},
   "outputs": [
    {
     "data": {
      "text/plain": [
       "2    1114650\n",
       "1     969066\n",
       "Name: vendor_id, dtype: int64"
      ]
     },
     "execution_count": 24,
     "metadata": {},
     "output_type": "execute_result"
    }
   ],
   "source": [
    "df.vendor_id.value_counts()"
   ]
  },
  {
   "cell_type": "code",
   "execution_count": 25,
   "metadata": {},
   "outputs": [
    {
     "name": "stdout",
     "output_type": "stream",
     "text": [
      "2016-06-30 23:59:39\n",
      "2016-01-01 00:00:17\n",
      "\n",
      "2016-06-30 23:59:58\n",
      "2016-01-01 00:00:22\n",
      "\n",
      "2016-06-30 23:59:58\n",
      "2016-01-01 00:00:17\n"
     ]
    }
   ],
   "source": [
    "print(train.pickup_datetime.max())\n",
    "print(train.pickup_datetime.min())\n",
    "print\n",
    "print(test.pickup_datetime.max())\n",
    "print(test.pickup_datetime.min())\n",
    "print\n",
    "print(df.pickup_datetime.max())\n",
    "print(df.pickup_datetime.min())"
   ]
  },
  {
   "cell_type": "code",
   "execution_count": 25,
   "metadata": {
    "collapsed": true
   },
   "outputs": [],
   "source": [
    "# Convert to datetime\n",
    "df.pickup_datetime=pd.to_datetime(df.pickup_datetime)"
   ]
  },
  {
   "cell_type": "code",
   "execution_count": 26,
   "metadata": {},
   "outputs": [
    {
     "data": {
      "text/plain": [
       "0   2016-03-14 17:24:55\n",
       "1   2016-06-12 00:43:35\n",
       "2   2016-01-19 11:35:24\n",
       "3   2016-04-06 19:32:31\n",
       "4   2016-03-26 13:30:55\n",
       "Name: pickup_datetime, dtype: datetime64[ns]"
      ]
     },
     "execution_count": 26,
     "metadata": {},
     "output_type": "execute_result"
    }
   ],
   "source": [
    "df.pickup_datetime.head()"
   ]
  },
  {
   "cell_type": "code",
   "execution_count": 27,
   "metadata": {
    "collapsed": true
   },
   "outputs": [],
   "source": [
    "# Calculate what minute in a day for pickup \n",
    "df['pickup_minute_of_the_day']=df.pickup_datetime.dt.hour*60+df.pickup_datetime.dt.minute"
   ]
  },
  {
   "cell_type": "code",
   "execution_count": 28,
   "metadata": {},
   "outputs": [
    {
     "data": {
      "text/plain": [
       "0    1044\n",
       "1      43\n",
       "2     695\n",
       "3    1172\n",
       "4     810\n",
       "Name: pickup_minute_of_the_day, dtype: int64"
      ]
     },
     "execution_count": 28,
     "metadata": {},
     "output_type": "execute_result"
    }
   ],
   "source": [
    "df.pickup_minute_of_the_day.head()"
   ]
  },
  {
   "cell_type": "code",
   "execution_count": 29,
   "metadata": {
    "collapsed": true
   },
   "outputs": [],
   "source": [
    "# Rather than use the standard 24 hours, group the trips into 24 groups that are sorted by KMeans\n",
    "# This should help 'rush-hour' rides to be in the same groups,change to one column,not know how many rows -1\n",
    "kmeans_pickup_time= KMeans(n_clusters=24,random_state=2).fit(df.pickup_minute_of_the_day[:500000].values.reshape(-1,1))"
   ]
  },
  {
   "cell_type": "code",
   "execution_count": 30,
   "metadata": {},
   "outputs": [
    {
     "data": {
      "text/plain": [
       "0     5\n",
       "1     6\n",
       "2     7\n",
       "3    12\n",
       "4     0\n",
       "Name: kmeans_pickup_time, dtype: int32"
      ]
     },
     "execution_count": 30,
     "metadata": {},
     "output_type": "execute_result"
    }
   ],
   "source": [
    "df['kmeans_pickup_time'] = kmeans_pickup_time.predict(df.pickup_minute_of_the_day.values.reshape(-1,1))\n",
    "df.kmeans_pickup_time.head()"
   ]
  },
  {
   "cell_type": "code",
   "execution_count": 32,
   "metadata": {},
   "outputs": [
    {
     "data": {
      "text/plain": [
       "Text(0.5,1,u'Pickup Hour')"
      ]
     },
     "execution_count": 32,
     "metadata": {},
     "output_type": "execute_result"
    },
    {
     "data": {
      "image/png": "[encoded data removed]",
      "text/plain": [
       "<matplotlib.figure.Figure at 0x102c1e310>"
      ]
     },
     "metadata": {},
     "output_type": "display_data"
    }
   ],
   "source": [
    "# Compare the distribution of kmeans_pickup_time and the standard 24 hour breakdown\n",
    "n = 50000 # number of data points to plot\n",
    "fig,(ax1,ax2)=plt.subplots(2,1,figsize=(10,5))\n",
    "\n",
    "ax1.scatter(x=df.pickup_minute_of_the_day[:n]/60,\n",
    "           y=np.random.uniform(0,1,n),\n",
    "           cmap='Set1',\n",
    "           c=df.kmeans_pickup_time[:n])\n",
    "ax1.set_title('KMeans Pickup Time')\n",
    "\n",
    "ax2.scatter(x=df.pickup_minute_of_the_day[:n]/60,\n",
    "           y=np.random.uniform(0,1,n),\n",
    "           cmap='Set1',\n",
    "           c=df.pickup_datetime.dt.hour[:n])\n",
    "ax2.set_title('Pickup Hour')\n"
   ]
  },
  {
   "cell_type": "code",
   "execution_count": 31,
   "metadata": {
    "collapsed": true
   },
   "outputs": [],
   "source": [
    "# Load a list of holidays in the US\n",
    "calendar = USFederalHolidayCalendar()\n",
    "holidays = calendar.holidays()\n",
    "\n",
    "# Load business days\n",
    "us_bd = CustomBusinessDay(calendar = USFederalHolidayCalendar())\n",
    "# Set business_days equal to the work days in our date range.\n",
    "business_days = pd.DatetimeIndex(start = df.pickup_datetime.min(), \n",
    "                                 end = df.pickup_datetime.max(), \n",
    "                                 freq = us_bd)\n",
    "business_days = pd.to_datetime(business_days).date"
   ]
  },
  {
   "cell_type": "code",
   "execution_count": 32,
   "metadata": {
    "collapsed": true
   },
   "outputs": [],
   "source": [
    "# Create features relating to time\n",
    "df['pickup_month'] = df.pickup_datetime.dt.month\n",
    "df['pickup_weekday'] = df.pickup_datetime.dt.weekday\n",
    "df['pickup_is_weekend'] = df.pickup_weekday.map(lambda x: 1 if x >= 5 else 0)\n",
    "\n",
    "df['pickup_holiday'] = pd.to_datetime(df.pickup_datetime.dt.date).isin(holidays)\n",
    "df['pickup_holiday'] = df.pickup_holiday.map(lambda x: 1 if x == True else 0)\n",
    "\n",
    "df['pickup_near_holiday'] = (pd.to_datetime(df.pickup_datetime.dt.date).isin(holidays + timedelta(days=1)) |\n",
    "                             pd.to_datetime(df.pickup_datetime.dt.date).isin(holidays - timedelta(days=1)))\n",
    "df['pickup_near_holiday'] = df.pickup_near_holiday.map(lambda x: 1 if x==True else 0 )\n",
    "\n",
    "df['pickup_businessday'] = pd.to_datetime(df.pickup_datetime.dt.date).isin(business_days)\n",
    "df['pickup_businessday'] = df.pickup_businessday.map(lambda x: 1 if x == True else 0)\n",
    "\n",
    "# Calculates what minute of the week it is\n",
    "df['week_delta'] = (df.pickup_weekday + ((df.pickup_datetime.dt.hour + \n",
    "                                              (df.pickup_datetime.dt.minute / 60.0)) / 24.0))"
   ]
  },
  {
   "cell_type": "code",
   "execution_count": 33,
   "metadata": {
    "collapsed": true
   },
   "outputs": [],
   "source": [
    "# Determines number of rides that occur during each specific time\n",
    "# Should help to determine traffic\n",
    "ride_counts = df.groupby(['pickup_month', 'pickup_weekday','pickup_holiday','pickup_near_holiday',\n",
    "            'pickup_businessday','kmeans_pickup_time']).size()\n",
    "ride_counts = pd.DataFrame(ride_counts).reset_index()\n",
    "ride_counts['ride_counts'] = ride_counts[0]\n",
    "ride_counts = ride_counts.drop(0,1)# Add `ride_counts` to dataframe\n",
    "df = df.merge(ride_counts, on=['pickup_month',\n",
    "                          'pickup_weekday',\n",
    "                          'pickup_holiday',\n",
    "                          'pickup_near_holiday',\n",
    "                          'pickup_businessday',\n",
    "                          'kmeans_pickup_time'], how='left')"
   ]
  },
  {
   "cell_type": "code",
   "execution_count": 34,
   "metadata": {
    "collapsed": true
   },
   "outputs": [],
   "source": [
    "# Dont' need this feature any more\n",
    "df = df.drop('pickup_datetime', 1)"
   ]
  },
  {
   "cell_type": "code",
   "execution_count": 35,
   "metadata": {
    "collapsed": true
   },
   "outputs": [],
   "source": [
    "# Group pickup and dropoff locations into 15 groups\n",
    "kmeans_pickup = KMeans(n_clusters=15,random_state=2).fit(df[['pickup_latitude','pickup_longitude']][:500000])\n",
    "kmeans_dropoff = KMeans(n_clusters=15, random_state=2).fit(df[['dropoff_latitude','dropoff_longitude']][:500000])\n",
    "\n",
    "df['kmeans_pickup'] = kmeans_pickup.predict(df[['pickup_latitude','pickup_longitude']])\n",
    "df['kmeans_dropoff'] = kmeans_dropoff.predict(df[['dropoff_latitude','dropoff_longitude']])"
   ]
  },
  {
   "cell_type": "code",
   "execution_count": 38,
   "metadata": {},
   "outputs": [
    {
     "data": {
      "text/plain": [
       "Text(0.5,1,u'Dropoff')"
      ]
     },
     "execution_count": 38,
     "metadata": {},
     "output_type": "execute_result"
    },
    {
     "data": {
      "image/png": "[encoded data removed]",
      "text/plain": [
       "<matplotlib.figure.Figure at 0x1181ba550>"
      ]
     },
     "metadata": {},
     "output_type": "display_data"
    }
   ],
   "source": [
    "# Plot these 15 groups\n",
    "\n",
    "n = 100000 # Number of data points to plot\n",
    "fig,(ax1,ax2)=plt.subplots(1,2,figsize=(10,5))\n",
    "\n",
    "ax1.scatter(df.pickup_latitude[:n],\n",
    "            df.pickup_longitude[:n],\n",
    "           cmap='viridis',\n",
    "           c=df.kmeans_pickup[:n])\n",
    "ax1.set_title('Pickup')\n",
    "\n",
    "ax2.scatter(df.dropoff_latitude[:n],\n",
    "            df.dropoff_longitude[:n],\n",
    "           cmap='viridis',\n",
    "           c=df.kmeans_dropoff[:n])\n",
    "ax2.set_title('Dropoff')\n",
    "\n"
   ]
  },
  {
   "cell_type": "code",
   "execution_count": 36,
   "metadata": {
    "collapsed": true
   },
   "outputs": [],
   "source": [
    "# Reduce pickup and dropoff locations to one value\n",
    "pca=PCA(n_components=1)\n",
    "df['pickup_pca']=pca.fit_transform(df[['pickup_latitude','pickup_longitude']])\n",
    "df['dropoff_pca'] = pca.fit_transform(df[['dropoff_latitude','dropoff_longitude']])"
   ]
  },
  {
   "cell_type": "code",
   "execution_count": 37,
   "metadata": {
    "collapsed": true
   },
   "outputs": [],
   "source": [
    "# Create distance features\n",
    "df['distance'] = np.sqrt(np.power(df['dropoff_longitude'] - df['pickup_longitude'], 2) + \n",
    "                         np.power(df['dropoff_latitude'] - df['pickup_latitude'], 2))\n",
    "df['haversine_distance'] = df.apply(lambda r: haversine.haversine((r['pickup_latitude'],r['pickup_longitude']),\n",
    "                                                                  (r['dropoff_latitude'], r['dropoff_longitude'])), \n",
    "                                                                  axis=1)\n",
    "df['manhattan_distance'] = (abs(df.dropoff_longitude - df.pickup_longitude) +\n",
    "                            abs(df.dropoff_latitude - df.pickup_latitude))\n",
    "df['log_distance'] = np.log(df['distance'] + 1)\n",
    "df['log_haversine_distance'] = np.log(df['haversine_distance'] + 1)\n",
    "df['log_manhattan_distance'] = np.log(df.manhattan_distance + 1)\n"
   ]
  },
  {
   "cell_type": "code",
   "execution_count": 38,
   "metadata": {
    "collapsed": true
   },
   "outputs": [],
   "source": [
    "# Calculate the direction of travel in degrees\n",
    "def calculate_bearing(pickup_lat, pickup_long, dropoff_lat, dropoff_long):\n",
    "    '''Calculate the direction of travel in degrees'''\n",
    "    pickup_lat_rads = np.radians(pickup_lat)\n",
    "    pickup_long_rads = np.radians(pickup_long)\n",
    "    dropoff_lat_rads = np.radians(dropoff_lat)\n",
    "    dropoff_long_rads = np.radians(dropoff_long)\n",
    "    long_delta_rads = np.radians(dropoff_long_rads - pickup_long_rads)\n",
    "    \n",
    "    y = np.sin(long_delta_rads) * np.cos(dropoff_lat_rads)\n",
    "    x = (np.cos(pickup_lat_rads) * \n",
    "         np.sin(dropoff_lat_rads) - \n",
    "         np.sin(pickup_lat_rads) * \n",
    "         np.cos(dropoff_lat_rads) * \n",
    "         np.cos(long_delta_rads))\n",
    "    \n",
    "    return np.degrees(np.arctan2(y, x))"
   ]
  },
  {
   "cell_type": "code",
   "execution_count": 39,
   "metadata": {
    "collapsed": true
   },
   "outputs": [],
   "source": [
    "df['bearing'] = calculate_bearing(df.pickup_latitude,\n",
    "                                  df.pickup_longitude,\n",
    "                                  df.dropoff_latitude,\n",
    "                                  df.dropoff_longitude)"
   ]
  },
  {
   "cell_type": "code",
   "execution_count": 43,
   "metadata": {},
   "outputs": [
    {
     "data": {
      "text/plain": [
       "1    1476947\n",
       "2     300329\n",
       "5     111497\n",
       "3      85581\n",
       "6      68853\n",
       "4      40419\n",
       "0         83\n",
       "9          3\n",
       "7          3\n",
       "8          1\n",
       "Name: passenger_count, dtype: int64"
      ]
     },
     "execution_count": 43,
     "metadata": {},
     "output_type": "execute_result"
    }
   ],
   "source": [
    "df.passenger_count.value_counts()"
   ]
  },
  {
   "cell_type": "code",
   "execution_count": 40,
   "metadata": {
    "collapsed": true
   },
   "outputs": [],
   "source": [
    "# Group passenger_count by type of group\n",
    "df['no_passengers']=df.passenger_count.map(lambda x: 1 if x==0 else 0)\n",
    "df['one_passenger'] = df.passenger_count.map(lambda x: 1 if x == 1 else 0)\n",
    "df['few_passengers'] = df.passenger_count.map(lambda x: 1 if x > 1 and x <= 4 else 0)\n",
    "df['many_passengers'] = df.passenger_count.map(lambda x: 1 if x >= 5 else 0)"
   ]
  },
  {
   "cell_type": "code",
   "execution_count": 41,
   "metadata": {
    "collapsed": true
   },
   "outputs": [],
   "source": [
    "df.store_and_fwd_flag = df.store_and_fwd_flag.map(lambda x: 1 if x == 'Y' else 0)"
   ]
  },
  {
   "cell_type": "code",
   "execution_count": 42,
   "metadata": {},
   "outputs": [
    {
     "data": {
      "text/plain": [
       "0    3\n",
       "1    6\n",
       "2    1\n",
       "3    4\n",
       "4    3\n",
       "Name: pickup_month, dtype: int64"
      ]
     },
     "execution_count": 42,
     "metadata": {},
     "output_type": "execute_result"
    }
   ],
   "source": [
    "df['pickup_month'].head()"
   ]
  },
  {
   "cell_type": "code",
   "execution_count": 43,
   "metadata": {
    "collapsed": true
   },
   "outputs": [],
   "source": [
    "# Create dummy features for these features, then drop these features\n",
    "dummies = ['kmeans_pickup_time','pickup_month','pickup_weekday','kmeans_pickup','kmeans_dropoff']\n",
    "for feature in dummies:\n",
    "    dummy_features=pd.get_dummies(df[feature],prefix=feature)\n",
    "    for dummy in dummy_features:\n",
    "        df[dummy]=dummy_features[dummy]\n",
    "    df=df.drop([feature],axis=1)"
   ]
  },
  {
   "cell_type": "code",
   "execution_count": 153,
   "metadata": {},
   "outputs": [
    {
     "data": {
      "text/html": [
       "<div>\n",
       "<style>\n",
       "    .dataframe thead tr:only-child th {\n",
       "        text-align: right;\n",
       "    }\n",
       "\n",
       "    .dataframe thead th {\n",
       "        text-align: left;\n",
       "    }\n",
       "\n",
       "    .dataframe tbody tr th {\n",
       "        vertical-align: top;\n",
       "    }\n",
       "</style>\n",
       "<table border=\"1\" class=\"dataframe\">\n",
       "  <thead>\n",
       "    <tr style=\"text-align: right;\">\n",
       "      <th></th>\n",
       "      <th>dropoff_latitude</th>\n",
       "      <th>dropoff_longitude</th>\n",
       "      <th>id</th>\n",
       "      <th>passenger_count</th>\n",
       "      <th>pickup_latitude</th>\n",
       "      <th>pickup_longitude</th>\n",
       "      <th>store_and_fwd_flag</th>\n",
       "      <th>trip_duration</th>\n",
       "      <th>vendor_id</th>\n",
       "      <th>pickup_minute_of_the_day</th>\n",
       "      <th>...</th>\n",
       "      <th>kmeans_dropoff_5</th>\n",
       "      <th>kmeans_dropoff_6</th>\n",
       "      <th>kmeans_dropoff_7</th>\n",
       "      <th>kmeans_dropoff_8</th>\n",
       "      <th>kmeans_dropoff_9</th>\n",
       "      <th>kmeans_dropoff_10</th>\n",
       "      <th>kmeans_dropoff_11</th>\n",
       "      <th>kmeans_dropoff_12</th>\n",
       "      <th>kmeans_dropoff_13</th>\n",
       "      <th>kmeans_dropoff_14</th>\n",
       "    </tr>\n",
       "  </thead>\n",
       "  <tbody>\n",
       "    <tr>\n",
       "      <th>0</th>\n",
       "      <td>40.765602</td>\n",
       "      <td>-73.964630</td>\n",
       "      <td>id2875421</td>\n",
       "      <td>1</td>\n",
       "      <td>40.767937</td>\n",
       "      <td>-73.982155</td>\n",
       "      <td>0</td>\n",
       "      <td>455.0</td>\n",
       "      <td>2</td>\n",
       "      <td>1044</td>\n",
       "      <td>...</td>\n",
       "      <td>0</td>\n",
       "      <td>0</td>\n",
       "      <td>0</td>\n",
       "      <td>0</td>\n",
       "      <td>0</td>\n",
       "      <td>0</td>\n",
       "      <td>1</td>\n",
       "      <td>0</td>\n",
       "      <td>0</td>\n",
       "      <td>0</td>\n",
       "    </tr>\n",
       "    <tr>\n",
       "      <th>1</th>\n",
       "      <td>40.731152</td>\n",
       "      <td>-73.999481</td>\n",
       "      <td>id2377394</td>\n",
       "      <td>1</td>\n",
       "      <td>40.738564</td>\n",
       "      <td>-73.980415</td>\n",
       "      <td>0</td>\n",
       "      <td>663.0</td>\n",
       "      <td>1</td>\n",
       "      <td>43</td>\n",
       "      <td>...</td>\n",
       "      <td>0</td>\n",
       "      <td>0</td>\n",
       "      <td>0</td>\n",
       "      <td>0</td>\n",
       "      <td>0</td>\n",
       "      <td>0</td>\n",
       "      <td>0</td>\n",
       "      <td>0</td>\n",
       "      <td>1</td>\n",
       "      <td>0</td>\n",
       "    </tr>\n",
       "    <tr>\n",
       "      <th>2</th>\n",
       "      <td>40.710087</td>\n",
       "      <td>-74.005333</td>\n",
       "      <td>id3858529</td>\n",
       "      <td>1</td>\n",
       "      <td>40.763939</td>\n",
       "      <td>-73.979027</td>\n",
       "      <td>0</td>\n",
       "      <td>2124.0</td>\n",
       "      <td>2</td>\n",
       "      <td>695</td>\n",
       "      <td>...</td>\n",
       "      <td>0</td>\n",
       "      <td>0</td>\n",
       "      <td>0</td>\n",
       "      <td>0</td>\n",
       "      <td>0</td>\n",
       "      <td>0</td>\n",
       "      <td>0</td>\n",
       "      <td>0</td>\n",
       "      <td>0</td>\n",
       "      <td>0</td>\n",
       "    </tr>\n",
       "    <tr>\n",
       "      <th>3</th>\n",
       "      <td>40.706718</td>\n",
       "      <td>-74.012268</td>\n",
       "      <td>id3504673</td>\n",
       "      <td>1</td>\n",
       "      <td>40.719971</td>\n",
       "      <td>-74.010040</td>\n",
       "      <td>0</td>\n",
       "      <td>429.0</td>\n",
       "      <td>2</td>\n",
       "      <td>1172</td>\n",
       "      <td>...</td>\n",
       "      <td>0</td>\n",
       "      <td>0</td>\n",
       "      <td>0</td>\n",
       "      <td>0</td>\n",
       "      <td>0</td>\n",
       "      <td>0</td>\n",
       "      <td>0</td>\n",
       "      <td>0</td>\n",
       "      <td>0</td>\n",
       "      <td>0</td>\n",
       "    </tr>\n",
       "    <tr>\n",
       "      <th>4</th>\n",
       "      <td>40.782520</td>\n",
       "      <td>-73.972923</td>\n",
       "      <td>id2181028</td>\n",
       "      <td>1</td>\n",
       "      <td>40.793209</td>\n",
       "      <td>-73.973053</td>\n",
       "      <td>0</td>\n",
       "      <td>435.0</td>\n",
       "      <td>2</td>\n",
       "      <td>810</td>\n",
       "      <td>...</td>\n",
       "      <td>0</td>\n",
       "      <td>0</td>\n",
       "      <td>0</td>\n",
       "      <td>0</td>\n",
       "      <td>0</td>\n",
       "      <td>1</td>\n",
       "      <td>0</td>\n",
       "      <td>0</td>\n",
       "      <td>0</td>\n",
       "      <td>0</td>\n",
       "    </tr>\n",
       "  </tbody>\n",
       "</table>\n",
       "<p>5 rows × 96 columns</p>\n",
       "</div>"
      ],
      "text/plain": [
       "   dropoff_latitude  dropoff_longitude         id  passenger_count  \\\n",
       "0         40.765602         -73.964630  id2875421                1   \n",
       "1         40.731152         -73.999481  id2377394                1   \n",
       "2         40.710087         -74.005333  id3858529                1   \n",
       "3         40.706718         -74.012268  id3504673                1   \n",
       "4         40.782520         -73.972923  id2181028                1   \n",
       "\n",
       "   pickup_latitude  pickup_longitude  store_and_fwd_flag  trip_duration  \\\n",
       "0        40.767937        -73.982155                   0          455.0   \n",
       "1        40.738564        -73.980415                   0          663.0   \n",
       "2        40.763939        -73.979027                   0         2124.0   \n",
       "3        40.719971        -74.010040                   0          429.0   \n",
       "4        40.793209        -73.973053                   0          435.0   \n",
       "\n",
       "   vendor_id  pickup_minute_of_the_day        ...          kmeans_dropoff_5  \\\n",
       "0          2                      1044        ...                         0   \n",
       "1          1                        43        ...                         0   \n",
       "2          2                       695        ...                         0   \n",
       "3          2                      1172        ...                         0   \n",
       "4          2                       810        ...                         0   \n",
       "\n",
       "   kmeans_dropoff_6  kmeans_dropoff_7  kmeans_dropoff_8  kmeans_dropoff_9  \\\n",
       "0                 0                 0                 0                 0   \n",
       "1                 0                 0                 0                 0   \n",
       "2                 0                 0                 0                 0   \n",
       "3                 0                 0                 0                 0   \n",
       "4                 0                 0                 0                 0   \n",
       "\n",
       "   kmeans_dropoff_10  kmeans_dropoff_11  kmeans_dropoff_12  kmeans_dropoff_13  \\\n",
       "0                  0                  1                  0                  0   \n",
       "1                  0                  0                  0                  1   \n",
       "2                  0                  0                  0                  0   \n",
       "3                  0                  0                  0                  0   \n",
       "4                  1                  0                  0                  0   \n",
       "\n",
       "   kmeans_dropoff_14  \n",
       "0                  0  \n",
       "1                  0  \n",
       "2                  0  \n",
       "3                  0  \n",
       "4                  0  \n",
       "\n",
       "[5 rows x 96 columns]"
      ]
     },
     "execution_count": 153,
     "metadata": {},
     "output_type": "execute_result"
    }
   ],
   "source": [
    "df.head()"
   ]
  },
  {
   "cell_type": "code",
   "execution_count": 44,
   "metadata": {
    "collapsed": true
   },
   "outputs": [],
   "source": [
    "# Don't need this feature any more\n",
    "df = df.drop(['id'],1)"
   ]
  },
  {
   "cell_type": "code",
   "execution_count": 45,
   "metadata": {
    "collapsed": true
   },
   "outputs": [],
   "source": [
    "# Transform each feature to have a mean of 0 and standard deviation of 1\n",
    "# Help to train the neural network\n",
    "for feature in df:\n",
    "    if feature == 'trip_duration':\n",
    "        continue\n",
    "    mean,std=df[feature].mean(),df[feature].std()\n",
    "    df.loc[:,feature]=(df[feature]-mean)/std"
   ]
  },
  {
   "cell_type": "code",
   "execution_count": 156,
   "metadata": {},
   "outputs": [
    {
     "data": {
      "text/html": [
       "<div>\n",
       "<style>\n",
       "    .dataframe thead tr:only-child th {\n",
       "        text-align: right;\n",
       "    }\n",
       "\n",
       "    .dataframe thead th {\n",
       "        text-align: left;\n",
       "    }\n",
       "\n",
       "    .dataframe tbody tr th {\n",
       "        vertical-align: top;\n",
       "    }\n",
       "</style>\n",
       "<table border=\"1\" class=\"dataframe\">\n",
       "  <thead>\n",
       "    <tr style=\"text-align: right;\">\n",
       "      <th></th>\n",
       "      <th>dropoff_latitude</th>\n",
       "      <th>dropoff_longitude</th>\n",
       "      <th>passenger_count</th>\n",
       "      <th>pickup_latitude</th>\n",
       "      <th>pickup_longitude</th>\n",
       "      <th>store_and_fwd_flag</th>\n",
       "      <th>trip_duration</th>\n",
       "      <th>vendor_id</th>\n",
       "      <th>pickup_minute_of_the_day</th>\n",
       "      <th>pickup_is_weekend</th>\n",
       "      <th>...</th>\n",
       "      <th>kmeans_dropoff_5</th>\n",
       "      <th>kmeans_dropoff_6</th>\n",
       "      <th>kmeans_dropoff_7</th>\n",
       "      <th>kmeans_dropoff_8</th>\n",
       "      <th>kmeans_dropoff_9</th>\n",
       "      <th>kmeans_dropoff_10</th>\n",
       "      <th>kmeans_dropoff_11</th>\n",
       "      <th>kmeans_dropoff_12</th>\n",
       "      <th>kmeans_dropoff_13</th>\n",
       "      <th>kmeans_dropoff_14</th>\n",
       "    </tr>\n",
       "  </thead>\n",
       "  <tbody>\n",
       "    <tr>\n",
       "      <th>0</th>\n",
       "      <td>0.411094</td>\n",
       "      <td>0.174547</td>\n",
       "      <td>-0.505345</td>\n",
       "      <td>0.592172</td>\n",
       "      <td>-0.168330</td>\n",
       "      <td>-0.074414</td>\n",
       "      <td>455.0</td>\n",
       "      <td>0.932411</td>\n",
       "      <td>0.515206</td>\n",
       "      <td>-0.631483</td>\n",
       "      <td>...</td>\n",
       "      <td>-0.44229</td>\n",
       "      <td>-0.047323</td>\n",
       "      <td>-0.080627</td>\n",
       "      <td>-0.079433</td>\n",
       "      <td>-0.159237</td>\n",
       "      <td>-0.302740</td>\n",
       "      <td>2.416877</td>\n",
       "      <td>-0.0024</td>\n",
       "      <td>-0.401036</td>\n",
       "      <td>-0.15753</td>\n",
       "    </tr>\n",
       "    <tr>\n",
       "      <th>1</th>\n",
       "      <td>-0.616539</td>\n",
       "      <td>-0.520763</td>\n",
       "      <td>-0.505345</td>\n",
       "      <td>-0.430931</td>\n",
       "      <td>-0.134548</td>\n",
       "      <td>-0.074414</td>\n",
       "      <td>663.0</td>\n",
       "      <td>-1.072488</td>\n",
       "      <td>-2.090069</td>\n",
       "      <td>1.583573</td>\n",
       "      <td>...</td>\n",
       "      <td>-0.44229</td>\n",
       "      <td>-0.047323</td>\n",
       "      <td>-0.080627</td>\n",
       "      <td>-0.079433</td>\n",
       "      <td>-0.159237</td>\n",
       "      <td>-0.302740</td>\n",
       "      <td>-0.413757</td>\n",
       "      <td>-0.0024</td>\n",
       "      <td>2.493543</td>\n",
       "      <td>-0.15753</td>\n",
       "    </tr>\n",
       "    <tr>\n",
       "      <th>2</th>\n",
       "      <td>-1.244885</td>\n",
       "      <td>-0.637510</td>\n",
       "      <td>-0.505345</td>\n",
       "      <td>0.452924</td>\n",
       "      <td>-0.107582</td>\n",
       "      <td>-0.074414</td>\n",
       "      <td>2124.0</td>\n",
       "      <td>0.932411</td>\n",
       "      <td>-0.393127</td>\n",
       "      <td>-0.631483</td>\n",
       "      <td>...</td>\n",
       "      <td>-0.44229</td>\n",
       "      <td>-0.047323</td>\n",
       "      <td>-0.080627</td>\n",
       "      <td>-0.079433</td>\n",
       "      <td>-0.159237</td>\n",
       "      <td>-0.302740</td>\n",
       "      <td>-0.413757</td>\n",
       "      <td>-0.0024</td>\n",
       "      <td>-0.401036</td>\n",
       "      <td>-0.15753</td>\n",
       "    </tr>\n",
       "    <tr>\n",
       "      <th>3</th>\n",
       "      <td>-1.345361</td>\n",
       "      <td>-0.775872</td>\n",
       "      <td>-0.505345</td>\n",
       "      <td>-1.078542</td>\n",
       "      <td>-0.709873</td>\n",
       "      <td>-0.074414</td>\n",
       "      <td>429.0</td>\n",
       "      <td>0.932411</td>\n",
       "      <td>0.848348</td>\n",
       "      <td>-0.631483</td>\n",
       "      <td>...</td>\n",
       "      <td>-0.44229</td>\n",
       "      <td>-0.047323</td>\n",
       "      <td>-0.080627</td>\n",
       "      <td>-0.079433</td>\n",
       "      <td>-0.159237</td>\n",
       "      <td>-0.302740</td>\n",
       "      <td>-0.413757</td>\n",
       "      <td>-0.0024</td>\n",
       "      <td>-0.401036</td>\n",
       "      <td>-0.15753</td>\n",
       "    </tr>\n",
       "    <tr>\n",
       "      <th>4</th>\n",
       "      <td>0.915751</td>\n",
       "      <td>0.009092</td>\n",
       "      <td>-0.505345</td>\n",
       "      <td>1.472439</td>\n",
       "      <td>0.008431</td>\n",
       "      <td>-0.074414</td>\n",
       "      <td>435.0</td>\n",
       "      <td>0.932411</td>\n",
       "      <td>-0.093819</td>\n",
       "      <td>1.583573</td>\n",
       "      <td>...</td>\n",
       "      <td>-0.44229</td>\n",
       "      <td>-0.047323</td>\n",
       "      <td>-0.080627</td>\n",
       "      <td>-0.079433</td>\n",
       "      <td>-0.159237</td>\n",
       "      <td>3.303164</td>\n",
       "      <td>-0.413757</td>\n",
       "      <td>-0.0024</td>\n",
       "      <td>-0.401036</td>\n",
       "      <td>-0.15753</td>\n",
       "    </tr>\n",
       "  </tbody>\n",
       "</table>\n",
       "<p>5 rows × 95 columns</p>\n",
       "</div>"
      ],
      "text/plain": [
       "   dropoff_latitude  dropoff_longitude  passenger_count  pickup_latitude  \\\n",
       "0          0.411094           0.174547        -0.505345         0.592172   \n",
       "1         -0.616539          -0.520763        -0.505345        -0.430931   \n",
       "2         -1.244885          -0.637510        -0.505345         0.452924   \n",
       "3         -1.345361          -0.775872        -0.505345        -1.078542   \n",
       "4          0.915751           0.009092        -0.505345         1.472439   \n",
       "\n",
       "   pickup_longitude  store_and_fwd_flag  trip_duration  vendor_id  \\\n",
       "0         -0.168330           -0.074414          455.0   0.932411   \n",
       "1         -0.134548           -0.074414          663.0  -1.072488   \n",
       "2         -0.107582           -0.074414         2124.0   0.932411   \n",
       "3         -0.709873           -0.074414          429.0   0.932411   \n",
       "4          0.008431           -0.074414          435.0   0.932411   \n",
       "\n",
       "   pickup_minute_of_the_day  pickup_is_weekend        ...          \\\n",
       "0                  0.515206          -0.631483        ...           \n",
       "1                 -2.090069           1.583573        ...           \n",
       "2                 -0.393127          -0.631483        ...           \n",
       "3                  0.848348          -0.631483        ...           \n",
       "4                 -0.093819           1.583573        ...           \n",
       "\n",
       "   kmeans_dropoff_5  kmeans_dropoff_6  kmeans_dropoff_7  kmeans_dropoff_8  \\\n",
       "0          -0.44229         -0.047323         -0.080627         -0.079433   \n",
       "1          -0.44229         -0.047323         -0.080627         -0.079433   \n",
       "2          -0.44229         -0.047323         -0.080627         -0.079433   \n",
       "3          -0.44229         -0.047323         -0.080627         -0.079433   \n",
       "4          -0.44229         -0.047323         -0.080627         -0.079433   \n",
       "\n",
       "   kmeans_dropoff_9  kmeans_dropoff_10  kmeans_dropoff_11  kmeans_dropoff_12  \\\n",
       "0         -0.159237          -0.302740           2.416877            -0.0024   \n",
       "1         -0.159237          -0.302740          -0.413757            -0.0024   \n",
       "2         -0.159237          -0.302740          -0.413757            -0.0024   \n",
       "3         -0.159237          -0.302740          -0.413757            -0.0024   \n",
       "4         -0.159237           3.303164          -0.413757            -0.0024   \n",
       "\n",
       "   kmeans_dropoff_13  kmeans_dropoff_14  \n",
       "0          -0.401036           -0.15753  \n",
       "1           2.493543           -0.15753  \n",
       "2          -0.401036           -0.15753  \n",
       "3          -0.401036           -0.15753  \n",
       "4          -0.401036           -0.15753  \n",
       "\n",
       "[5 rows x 95 columns]"
      ]
     },
     "execution_count": 156,
     "metadata": {},
     "output_type": "execute_result"
    }
   ],
   "source": [
    "# Check that the transformation was carried out correctly\n",
    "df.head()"
   ]
  },
  {
   "cell_type": "code",
   "execution_count": 46,
   "metadata": {
    "collapsed": true
   },
   "outputs": [],
   "source": [
    "# Return data into a training and testing set\n",
    "trainFinal = df[:-len(test)]\n",
    "testFinal = df[-len(test):]"
   ]
  },
  {
   "cell_type": "code",
   "execution_count": 51,
   "metadata": {},
   "outputs": [
    {
     "name": "stdout",
     "output_type": "stream",
     "text": [
      "1458582\n",
      "625134\n",
      "625134\n"
     ]
    }
   ],
   "source": [
    "# Check lengths of dataframes\n",
    "print(len(trainFinal))\n",
    "print(len(testFinal))\n",
    "print(len(test))"
   ]
  },
  {
   "cell_type": "code",
   "execution_count": 47,
   "metadata": {
    "collapsed": true
   },
   "outputs": [],
   "source": [
    "# Give trip_duration its own dataframe\n",
    "# Drop it from the other dataframes\n",
    "yFinal = pd.DataFrame(trainFinal.trip_duration)\n",
    "trainFinal = trainFinal.drop('trip_duration',1)\n",
    "testFinal = testFinal.drop('trip_duration',1)"
   ]
  },
  {
   "cell_type": "code",
   "execution_count": 48,
   "metadata": {
    "collapsed": true
   },
   "outputs": [],
   "source": [
    "# Sort data into training and testing sets\n",
    "x_trainFinal,x_testFinal,y_trainFinal,y_testFinal=train_test_split(trainFinal,\n",
    "                                                                   np.log(yFinal+1),\n",
    "                                                                   test_size=0.15,\n",
    "                                                                   random_state=2)\n",
    "x_train, x_test, y_train, y_test = train_test_split(x_trainFinal, \n",
    "                                                    y_trainFinal, \n",
    "                                                    test_size=0.15,\n",
    "                                                    random_state=2)"
   ]
  },
  {
   "cell_type": "markdown",
   "metadata": {},
   "source": [
    "## Build random forest"
   ]
  },
  {
   "cell_type": "code",
   "execution_count": 173,
   "metadata": {},
   "outputs": [
    {
     "name": "stderr",
     "output_type": "stream",
     "text": [
      "/Users/xuan/anaconda/lib/python2.7/site-packages/ipykernel_launcher.py:25: DataConversionWarning: A column-vector y was passed when a 1d array was expected. Please change the shape of y to (n_samples,), for example using ravel().\n"
     ]
    },
    {
     "name": "stdout",
     "output_type": "stream",
     "text": [
      "building tree 1 of 11\n"
     ]
    },
    {
     "name": "stderr",
     "output_type": "stream",
     "text": [
      "[Parallel(n_jobs=1)]: Done   1 out of   1 | elapsed:   16.3s remaining:    0.0s\n"
     ]
    },
    {
     "name": "stdout",
     "output_type": "stream",
     "text": [
      "building tree 2 of 11\n",
      "building tree 3 of 11\n",
      "building tree 4 of 11\n",
      "building tree 5 of 11\n",
      "building tree 6 of 11\n",
      "building tree 7 of 11\n",
      "building tree 8 of 11\n",
      "building tree 9 of 11\n",
      "building tree 10 of 11\n",
      "building tree 11 of 11\n"
     ]
    },
    {
     "name": "stderr",
     "output_type": "stream",
     "text": [
      "[Parallel(n_jobs=1)]: Done  11 out of  11 | elapsed:  3.0min finished\n",
      "[Parallel(n_jobs=1)]: Done   1 out of   1 | elapsed:    0.0s remaining:    0.0s\n",
      "[Parallel(n_jobs=1)]: Done  11 out of  11 | elapsed:    0.1s finished\n"
     ]
    },
    {
     "name": "stdout",
     "output_type": "stream",
     "text": [
      "RMSE for iteration #1 is 0.456855058295.\n",
      "NE=11, MD=7, MSS=16\n",
      "\n"
     ]
    },
    {
     "name": "stderr",
     "output_type": "stream",
     "text": [
      "[Parallel(n_jobs=1)]: Done   1 out of   1 | elapsed:    0.0s remaining:    0.0s\n",
      "[Parallel(n_jobs=1)]: Done  11 out of  11 | elapsed:    0.4s finished\n"
     ]
    },
    {
     "name": "stdout",
     "output_type": "stream",
     "text": [
      "building tree 1 of 15\n"
     ]
    },
    {
     "name": "stderr",
     "output_type": "stream",
     "text": [
      "[Parallel(n_jobs=1)]: Done   1 out of   1 | elapsed:   23.7s remaining:    0.0s\n"
     ]
    },
    {
     "name": "stdout",
     "output_type": "stream",
     "text": [
      "building tree 2 of 15\n",
      "building tree 3 of 15\n",
      "building tree 4 of 15\n",
      "building tree 5 of 15\n",
      "building tree 6 of 15\n",
      "building tree 7 of 15\n",
      "building tree 8 of 15\n",
      "building tree 9 of 15\n",
      "building tree 10 of 15\n",
      "building tree 11 of 15\n",
      "building tree 12 of 15\n",
      "building tree 13 of 15\n",
      "building tree 14 of 15\n",
      "building tree 15 of 15\n"
     ]
    },
    {
     "name": "stderr",
     "output_type": "stream",
     "text": [
      "[Parallel(n_jobs=1)]: Done  15 out of  15 | elapsed:  5.9min finished\n",
      "[Parallel(n_jobs=1)]: Done   1 out of   1 | elapsed:    0.0s remaining:    0.0s\n",
      "[Parallel(n_jobs=1)]: Done  15 out of  15 | elapsed:    0.4s finished\n"
     ]
    },
    {
     "name": "stdout",
     "output_type": "stream",
     "text": [
      "RMSE for iteration #2 is 0.42821102022.\n",
      "NE=15, MD=11, MSS=4\n",
      "\n"
     ]
    },
    {
     "name": "stderr",
     "output_type": "stream",
     "text": [
      "[Parallel(n_jobs=1)]: Done   1 out of   1 | elapsed:    0.1s remaining:    0.0s\n",
      "[Parallel(n_jobs=1)]: Done  15 out of  15 | elapsed:    1.0s finished\n"
     ]
    },
    {
     "name": "stdout",
     "output_type": "stream",
     "text": [
      "building tree 1 of 18\n"
     ]
    },
    {
     "name": "stderr",
     "output_type": "stream",
     "text": [
      "[Parallel(n_jobs=1)]: Done   1 out of   1 | elapsed:   20.8s remaining:    0.0s\n"
     ]
    },
    {
     "name": "stdout",
     "output_type": "stream",
     "text": [
      "building tree 2 of 18\n",
      "building tree 3 of 18\n",
      "building tree 4 of 18\n",
      "building tree 5 of 18\n",
      "building tree 6 of 18\n",
      "building tree 7 of 18\n",
      "building tree 8 of 18\n",
      "building tree 9 of 18\n",
      "building tree 10 of 18\n",
      "building tree 11 of 18\n",
      "building tree 12 of 18\n",
      "building tree 13 of 18\n",
      "building tree 14 of 18\n",
      "building tree 15 of 18\n",
      "building tree 16 of 18\n",
      "building tree 17 of 18\n",
      "building tree 18 of 18\n"
     ]
    },
    {
     "name": "stderr",
     "output_type": "stream",
     "text": [
      "[Parallel(n_jobs=1)]: Done  18 out of  18 | elapsed:  6.0min finished\n",
      "[Parallel(n_jobs=1)]: Done   1 out of   1 | elapsed:    0.0s remaining:    0.0s\n",
      "[Parallel(n_jobs=1)]: Done  18 out of  18 | elapsed:    0.3s finished\n"
     ]
    },
    {
     "name": "stdout",
     "output_type": "stream",
     "text": [
      "RMSE for iteration #3 is 0.439769890135.\n",
      "NE=18, MD=9, MSS=19\n",
      "\n"
     ]
    },
    {
     "name": "stderr",
     "output_type": "stream",
     "text": [
      "[Parallel(n_jobs=1)]: Done   1 out of   1 | elapsed:    0.0s remaining:    0.0s\n",
      "[Parallel(n_jobs=1)]: Done  18 out of  18 | elapsed:    0.9s finished\n"
     ]
    },
    {
     "name": "stdout",
     "output_type": "stream",
     "text": [
      "building tree 1 of 11\n"
     ]
    },
    {
     "name": "stderr",
     "output_type": "stream",
     "text": [
      "[Parallel(n_jobs=1)]: Done   1 out of   1 | elapsed:   16.2s remaining:    0.0s\n"
     ]
    },
    {
     "name": "stdout",
     "output_type": "stream",
     "text": [
      "building tree 2 of 11\n",
      "building tree 3 of 11\n",
      "building tree 4 of 11\n",
      "building tree 5 of 11\n",
      "building tree 6 of 11\n",
      "building tree 7 of 11\n",
      "building tree 8 of 11\n",
      "building tree 9 of 11\n",
      "building tree 10 of 11\n",
      "building tree 11 of 11\n"
     ]
    },
    {
     "name": "stderr",
     "output_type": "stream",
     "text": [
      "[Parallel(n_jobs=1)]: Done  11 out of  11 | elapsed:  2.9min finished\n",
      "[Parallel(n_jobs=1)]: Done   1 out of   1 | elapsed:    0.0s remaining:    0.0s\n",
      "[Parallel(n_jobs=1)]: Done  11 out of  11 | elapsed:    0.1s finished\n"
     ]
    },
    {
     "name": "stdout",
     "output_type": "stream",
     "text": [
      "RMSE for iteration #4 is 0.456852591564.\n",
      "NE=11, MD=7, MSS=9\n",
      "\n"
     ]
    },
    {
     "name": "stderr",
     "output_type": "stream",
     "text": [
      "[Parallel(n_jobs=1)]: Done   1 out of   1 | elapsed:    0.0s remaining:    0.0s\n",
      "[Parallel(n_jobs=1)]: Done  11 out of  11 | elapsed:    0.4s finished\n"
     ]
    },
    {
     "name": "stdout",
     "output_type": "stream",
     "text": [
      "building tree 1 of 11\n"
     ]
    },
    {
     "name": "stderr",
     "output_type": "stream",
     "text": [
      "[Parallel(n_jobs=1)]: Done   1 out of   1 | elapsed:   22.1s remaining:    0.0s\n"
     ]
    },
    {
     "name": "stdout",
     "output_type": "stream",
     "text": [
      "building tree 2 of 11\n",
      "building tree 3 of 11\n",
      "building tree 4 of 11\n",
      "building tree 5 of 11\n",
      "building tree 6 of 11\n",
      "building tree 7 of 11\n",
      "building tree 8 of 11\n",
      "building tree 9 of 11\n",
      "building tree 10 of 11\n",
      "building tree 11 of 11\n"
     ]
    },
    {
     "name": "stderr",
     "output_type": "stream",
     "text": [
      "[Parallel(n_jobs=1)]: Done  11 out of  11 | elapsed: 50.1min finished\n",
      "[Parallel(n_jobs=1)]: Done   1 out of   1 | elapsed:    0.0s remaining:    0.0s\n",
      "[Parallel(n_jobs=1)]: Done  11 out of  11 | elapsed:    0.2s finished\n"
     ]
    },
    {
     "name": "stdout",
     "output_type": "stream",
     "text": [
      "RMSE for iteration #5 is 0.433752600753.\n",
      "NE=11, MD=10, MSS=49\n",
      "\n"
     ]
    },
    {
     "name": "stderr",
     "output_type": "stream",
     "text": [
      "[Parallel(n_jobs=1)]: Done   1 out of   1 | elapsed:    0.1s remaining:    0.0s\n",
      "[Parallel(n_jobs=1)]: Done  11 out of  11 | elapsed:    0.6s finished\n"
     ]
    },
    {
     "name": "stdout",
     "output_type": "stream",
     "text": [
      "building tree 1 of 17\n"
     ]
    },
    {
     "name": "stderr",
     "output_type": "stream",
     "text": [
      "[Parallel(n_jobs=1)]: Done   1 out of   1 | elapsed:   15.7s remaining:    0.0s\n"
     ]
    },
    {
     "name": "stdout",
     "output_type": "stream",
     "text": [
      "building tree 2 of 17\n",
      "building tree 3 of 17\n",
      "building tree 4 of 17\n",
      "building tree 5 of 17\n",
      "building tree 6 of 17\n",
      "building tree 7 of 17\n",
      "building tree 8 of 17\n",
      "building tree 9 of 17\n",
      "building tree 10 of 17\n",
      "building tree 11 of 17\n",
      "building tree 12 of 17\n",
      "building tree 13 of 17\n",
      "building tree 14 of 17\n",
      "building tree 15 of 17\n",
      "building tree 16 of 17\n",
      "building tree 17 of 17\n"
     ]
    },
    {
     "name": "stderr",
     "output_type": "stream",
     "text": [
      "[Parallel(n_jobs=1)]: Done  17 out of  17 | elapsed:  4.5min finished\n",
      "[Parallel(n_jobs=1)]: Done   1 out of   1 | elapsed:    0.0s remaining:    0.0s\n",
      "[Parallel(n_jobs=1)]: Done  17 out of  17 | elapsed:    0.2s finished\n"
     ]
    },
    {
     "name": "stdout",
     "output_type": "stream",
     "text": [
      "RMSE for iteration #6 is 0.456600928103.\n",
      "NE=17, MD=7, MSS=22\n",
      "\n"
     ]
    },
    {
     "name": "stderr",
     "output_type": "stream",
     "text": [
      "[Parallel(n_jobs=1)]: Done   1 out of   1 | elapsed:    0.0s remaining:    0.0s\n",
      "[Parallel(n_jobs=1)]: Done  17 out of  17 | elapsed:    0.6s finished\n"
     ]
    },
    {
     "name": "stdout",
     "output_type": "stream",
     "text": [
      "building tree 1 of 15\n"
     ]
    },
    {
     "name": "stderr",
     "output_type": "stream",
     "text": [
      "[Parallel(n_jobs=1)]: Done   1 out of   1 | elapsed:   21.0s remaining:    0.0s\n"
     ]
    },
    {
     "name": "stdout",
     "output_type": "stream",
     "text": [
      "building tree 2 of 15\n",
      "building tree 3 of 15\n",
      "building tree 4 of 15\n",
      "building tree 5 of 15\n",
      "building tree 6 of 15\n",
      "building tree 7 of 15\n",
      "building tree 8 of 15\n",
      "building tree 9 of 15\n",
      "building tree 10 of 15\n",
      "building tree 11 of 15\n",
      "building tree 12 of 15\n",
      "building tree 13 of 15\n",
      "building tree 14 of 15\n",
      "building tree 15 of 15\n"
     ]
    },
    {
     "name": "stderr",
     "output_type": "stream",
     "text": [
      "[Parallel(n_jobs=1)]: Done  15 out of  15 | elapsed:  5.4min finished\n",
      "[Parallel(n_jobs=1)]: Done   1 out of   1 | elapsed:    0.0s remaining:    0.0s\n",
      "[Parallel(n_jobs=1)]: Done  15 out of  15 | elapsed:    0.3s finished\n"
     ]
    },
    {
     "name": "stdout",
     "output_type": "stream",
     "text": [
      "RMSE for iteration #7 is 0.433217879603.\n",
      "NE=15, MD=10, MSS=20\n",
      "\n"
     ]
    },
    {
     "name": "stderr",
     "output_type": "stream",
     "text": [
      "[Parallel(n_jobs=1)]: Done   1 out of   1 | elapsed:    0.1s remaining:    0.0s\n",
      "[Parallel(n_jobs=1)]: Done  15 out of  15 | elapsed:    0.8s finished\n"
     ]
    },
    {
     "name": "stdout",
     "output_type": "stream",
     "text": [
      "building tree 1 of 10\n"
     ]
    },
    {
     "name": "stderr",
     "output_type": "stream",
     "text": [
      "[Parallel(n_jobs=1)]: Done   1 out of   1 | elapsed:   18.0s remaining:    0.0s\n"
     ]
    },
    {
     "name": "stdout",
     "output_type": "stream",
     "text": [
      "building tree 2 of 10\n",
      "building tree 3 of 10\n",
      "building tree 4 of 10\n",
      "building tree 5 of 10\n",
      "building tree 6 of 10\n",
      "building tree 7 of 10\n",
      "building tree 8 of 10\n",
      "building tree 9 of 10\n",
      "building tree 10 of 10\n"
     ]
    },
    {
     "name": "stderr",
     "output_type": "stream",
     "text": [
      "[Parallel(n_jobs=1)]: Done  10 out of  10 | elapsed: 26.0min finished\n",
      "[Parallel(n_jobs=1)]: Done   1 out of   1 | elapsed:    0.0s remaining:    0.0s\n",
      "[Parallel(n_jobs=1)]: Done  10 out of  10 | elapsed:    0.2s finished\n"
     ]
    },
    {
     "name": "stdout",
     "output_type": "stream",
     "text": [
      "RMSE for iteration #8 is 0.447530889993.\n",
      "NE=10, MD=8, MSS=21\n",
      "\n"
     ]
    },
    {
     "name": "stderr",
     "output_type": "stream",
     "text": [
      "[Parallel(n_jobs=1)]: Done   1 out of   1 | elapsed:    0.0s remaining:    0.0s\n",
      "[Parallel(n_jobs=1)]: Done  10 out of  10 | elapsed:    0.4s finished\n"
     ]
    },
    {
     "name": "stdout",
     "output_type": "stream",
     "text": [
      "building tree 1 of 13\n"
     ]
    },
    {
     "name": "stderr",
     "output_type": "stream",
     "text": [
      "[Parallel(n_jobs=1)]: Done   1 out of   1 | elapsed:   15.2s remaining:    0.0s\n"
     ]
    },
    {
     "name": "stdout",
     "output_type": "stream",
     "text": [
      "building tree 2 of 13\n",
      "building tree 3 of 13\n",
      "building tree 4 of 13\n",
      "building tree 5 of 13\n",
      "building tree 6 of 13\n",
      "building tree 7 of 13\n",
      "building tree 8 of 13\n",
      "building tree 9 of 13\n",
      "building tree 10 of 13\n",
      "building tree 11 of 13\n",
      "building tree 12 of 13\n",
      "building tree 13 of 13\n"
     ]
    },
    {
     "name": "stderr",
     "output_type": "stream",
     "text": [
      "[Parallel(n_jobs=1)]: Done  13 out of  13 | elapsed: 72.6min finished\n",
      "[Parallel(n_jobs=1)]: Done   1 out of   1 | elapsed:    0.0s remaining:    0.0s\n",
      "[Parallel(n_jobs=1)]: Done  13 out of  13 | elapsed:    0.2s finished\n"
     ]
    },
    {
     "name": "stdout",
     "output_type": "stream",
     "text": [
      "RMSE for iteration #9 is 0.45680709751.\n",
      "NE=13, MD=7, MSS=20\n",
      "\n"
     ]
    },
    {
     "name": "stderr",
     "output_type": "stream",
     "text": [
      "[Parallel(n_jobs=1)]: Done   1 out of   1 | elapsed:    0.0s remaining:    0.0s\n",
      "[Parallel(n_jobs=1)]: Done  13 out of  13 | elapsed:    0.4s finished\n"
     ]
    },
    {
     "name": "stdout",
     "output_type": "stream",
     "text": [
      "building tree 1 of 17\n"
     ]
    },
    {
     "name": "stderr",
     "output_type": "stream",
     "text": [
      "[Parallel(n_jobs=1)]: Done   1 out of   1 | elapsed: 11.9min remaining:    0.0s\n"
     ]
    },
    {
     "name": "stdout",
     "output_type": "stream",
     "text": [
      "building tree 2 of 17\n",
      "building tree 3 of 17\n",
      "building tree 4 of 17\n",
      "building tree 5 of 17\n",
      "building tree 6 of 17\n",
      "building tree 7 of 17\n",
      "building tree 8 of 17\n",
      "building tree 9 of 17\n",
      "building tree 10 of 17\n",
      "building tree 11 of 17\n",
      "building tree 12 of 17\n",
      "building tree 13 of 17\n",
      "building tree 14 of 17\n",
      "building tree 15 of 17\n",
      "building tree 16 of 17\n",
      "building tree 17 of 17\n"
     ]
    },
    {
     "name": "stderr",
     "output_type": "stream",
     "text": [
      "[Parallel(n_jobs=1)]: Done  17 out of  17 | elapsed: 80.8min finished\n",
      "[Parallel(n_jobs=1)]: Done   1 out of   1 | elapsed:    0.0s remaining:    0.0s\n",
      "[Parallel(n_jobs=1)]: Done  17 out of  17 | elapsed:    0.4s finished\n"
     ]
    },
    {
     "name": "stdout",
     "output_type": "stream",
     "text": [
      "RMSE for iteration #10 is 0.433175029333.\n",
      "NE=17, MD=10, MSS=20\n",
      "\n"
     ]
    },
    {
     "name": "stderr",
     "output_type": "stream",
     "text": [
      "[Parallel(n_jobs=1)]: Done   1 out of   1 | elapsed:    0.1s remaining:    0.0s\n",
      "[Parallel(n_jobs=1)]: Done  17 out of  17 | elapsed:    0.9s finished\n"
     ]
    },
    {
     "name": "stdout",
     "output_type": "stream",
     "text": [
      "building tree 1 of 10\n"
     ]
    },
    {
     "name": "stderr",
     "output_type": "stream",
     "text": [
      "[Parallel(n_jobs=1)]: Done   1 out of   1 | elapsed: 11.9min remaining:    0.0s\n"
     ]
    },
    {
     "name": "stdout",
     "output_type": "stream",
     "text": [
      "building tree 2 of 10\n",
      "building tree 3 of 10\n",
      "building tree 4 of 10\n",
      "building tree 5 of 10\n",
      "building tree 6 of 10\n",
      "building tree 7 of 10\n",
      "building tree 8 of 10\n",
      "building tree 9 of 10\n",
      "building tree 10 of 10\n"
     ]
    },
    {
     "name": "stderr",
     "output_type": "stream",
     "text": [
      "[Parallel(n_jobs=1)]: Done  10 out of  10 | elapsed: 71.1min finished\n",
      "[Parallel(n_jobs=1)]: Done   1 out of   1 | elapsed:    0.0s remaining:    0.0s\n",
      "[Parallel(n_jobs=1)]: Done  10 out of  10 | elapsed: 11.5min finished\n"
     ]
    },
    {
     "name": "stdout",
     "output_type": "stream",
     "text": [
      "RMSE for iteration #11 is 0.428761687926.\n",
      "NE=10, MD=11, MSS=24\n",
      "\n"
     ]
    },
    {
     "name": "stderr",
     "output_type": "stream",
     "text": [
      "[Parallel(n_jobs=1)]: Done   1 out of   1 | elapsed:    0.1s remaining:    0.0s\n",
      "[Parallel(n_jobs=1)]: Done  10 out of  10 | elapsed:    0.6s finished\n"
     ]
    },
    {
     "name": "stdout",
     "output_type": "stream",
     "text": [
      "building tree 1 of 18\n"
     ]
    },
    {
     "name": "stderr",
     "output_type": "stream",
     "text": [
      "[Parallel(n_jobs=1)]: Done   1 out of   1 | elapsed:   18.0s remaining:    0.0s\n"
     ]
    },
    {
     "name": "stdout",
     "output_type": "stream",
     "text": [
      "building tree 2 of 18\n",
      "building tree 3 of 18\n",
      "building tree 4 of 18\n",
      "building tree 5 of 18\n",
      "building tree 6 of 18\n",
      "building tree 7 of 18\n",
      "building tree 8 of 18\n",
      "building tree 9 of 18\n",
      "building tree 10 of 18\n",
      "building tree 11 of 18\n",
      "building tree 12 of 18\n",
      "building tree 13 of 18\n",
      "building tree 14 of 18\n",
      "building tree 15 of 18\n",
      "building tree 16 of 18\n",
      "building tree 17 of 18\n",
      "building tree 18 of 18\n"
     ]
    },
    {
     "name": "stderr",
     "output_type": "stream",
     "text": [
      "[Parallel(n_jobs=1)]: Done  18 out of  18 | elapsed: 74.4min finished\n",
      "[Parallel(n_jobs=1)]: Done   1 out of   1 | elapsed:    0.0s remaining:    0.0s\n",
      "[Parallel(n_jobs=1)]: Done  18 out of  18 | elapsed:    0.3s finished\n"
     ]
    },
    {
     "name": "stdout",
     "output_type": "stream",
     "text": [
      "RMSE for iteration #12 is 0.447075077283.\n",
      "NE=18, MD=8, MSS=33\n",
      "\n"
     ]
    },
    {
     "name": "stderr",
     "output_type": "stream",
     "text": [
      "[Parallel(n_jobs=1)]: Done   1 out of   1 | elapsed:    0.0s remaining:    0.0s\n",
      "[Parallel(n_jobs=1)]: Done  18 out of  18 | elapsed:    0.7s finished\n"
     ]
    },
    {
     "name": "stdout",
     "output_type": "stream",
     "text": [
      "building tree 1 of 19\n"
     ]
    },
    {
     "name": "stderr",
     "output_type": "stream",
     "text": [
      "[Parallel(n_jobs=1)]: Done   1 out of   1 | elapsed:   18.9s remaining:    0.0s\n"
     ]
    },
    {
     "name": "stdout",
     "output_type": "stream",
     "text": [
      "building tree 2 of 19\n",
      "building tree 3 of 19\n",
      "building tree 4 of 19\n",
      "building tree 5 of 19\n",
      "building tree 6 of 19\n",
      "building tree 7 of 19\n",
      "building tree 8 of 19\n",
      "building tree 9 of 19\n",
      "building tree 10 of 19\n",
      "building tree 11 of 19\n",
      "building tree 12 of 19\n",
      "building tree 13 of 19\n",
      "building tree 14 of 19\n",
      "building tree 15 of 19\n",
      "building tree 16 of 19\n",
      "building tree 17 of 19\n",
      "building tree 18 of 19\n",
      "building tree 19 of 19\n"
     ]
    },
    {
     "name": "stderr",
     "output_type": "stream",
     "text": [
      "[Parallel(n_jobs=1)]: Done  19 out of  19 | elapsed: 86.8min finished\n",
      "[Parallel(n_jobs=1)]: Done   1 out of   1 | elapsed:    0.0s remaining:    0.0s\n",
      "[Parallel(n_jobs=1)]: Done  19 out of  19 | elapsed:    0.3s finished\n"
     ]
    },
    {
     "name": "stdout",
     "output_type": "stream",
     "text": [
      "RMSE for iteration #13 is 0.439842818735.\n",
      "NE=19, MD=9, MSS=46\n",
      "\n"
     ]
    },
    {
     "name": "stderr",
     "output_type": "stream",
     "text": [
      "[Parallel(n_jobs=1)]: Done   1 out of   1 | elapsed:    0.1s remaining:    0.0s\n",
      "[Parallel(n_jobs=1)]: Done  19 out of  19 | elapsed: 11.6min finished\n"
     ]
    },
    {
     "name": "stdout",
     "output_type": "stream",
     "text": [
      "building tree 1 of 10\n"
     ]
    },
    {
     "name": "stderr",
     "output_type": "stream",
     "text": [
      "[Parallel(n_jobs=1)]: Done   1 out of   1 | elapsed:   13.7s remaining:    0.0s\n"
     ]
    },
    {
     "name": "stdout",
     "output_type": "stream",
     "text": [
      "building tree 2 of 10\n",
      "building tree 3 of 10\n",
      "building tree 4 of 10\n",
      "building tree 5 of 10\n",
      "building tree 6 of 10\n",
      "building tree 7 of 10\n",
      "building tree 8 of 10\n",
      "building tree 9 of 10\n",
      "building tree 10 of 10\n"
     ]
    },
    {
     "name": "stderr",
     "output_type": "stream",
     "text": [
      "[Parallel(n_jobs=1)]: Done  10 out of  10 | elapsed: 25.3min finished\n",
      "[Parallel(n_jobs=1)]: Done   1 out of   1 | elapsed:    0.0s remaining:    0.0s\n",
      "[Parallel(n_jobs=1)]: Done  10 out of  10 | elapsed:    0.1s finished\n"
     ]
    },
    {
     "name": "stdout",
     "output_type": "stream",
     "text": [
      "RMSE for iteration #14 is 0.467962091501.\n",
      "NE=10, MD=6, MSS=27\n",
      "\n"
     ]
    },
    {
     "name": "stderr",
     "output_type": "stream",
     "text": [
      "[Parallel(n_jobs=1)]: Done   1 out of   1 | elapsed:    0.0s remaining:    0.0s\n",
      "[Parallel(n_jobs=1)]: Done  10 out of  10 | elapsed:    0.3s finished\n"
     ]
    },
    {
     "name": "stdout",
     "output_type": "stream",
     "text": [
      "building tree 1 of 11\n"
     ]
    },
    {
     "name": "stderr",
     "output_type": "stream",
     "text": [
      "[Parallel(n_jobs=1)]: Done   1 out of   1 | elapsed: 11.9min remaining:    0.0s\n"
     ]
    },
    {
     "name": "stdout",
     "output_type": "stream",
     "text": [
      "building tree 2 of 11\n",
      "building tree 3 of 11\n",
      "building tree 4 of 11\n",
      "building tree 5 of 11\n",
      "building tree 6 of 11\n",
      "building tree 7 of 11\n",
      "building tree 8 of 11\n",
      "building tree 9 of 11\n",
      "building tree 10 of 11\n",
      "building tree 11 of 11\n"
     ]
    },
    {
     "name": "stderr",
     "output_type": "stream",
     "text": [
      "[Parallel(n_jobs=1)]: Done  11 out of  11 | elapsed: 61.8min finished\n",
      "[Parallel(n_jobs=1)]: Done   1 out of   1 | elapsed:    0.0s remaining:    0.0s\n",
      "[Parallel(n_jobs=1)]: Done  11 out of  11 | elapsed:    0.3s finished\n"
     ]
    },
    {
     "name": "stdout",
     "output_type": "stream",
     "text": [
      "RMSE for iteration #15 is 0.428541496641.\n",
      "NE=11, MD=11, MSS=18\n",
      "\n"
     ]
    },
    {
     "name": "stderr",
     "output_type": "stream",
     "text": [
      "[Parallel(n_jobs=1)]: Done   1 out of   1 | elapsed:    0.1s remaining:    0.0s\n",
      "[Parallel(n_jobs=1)]: Done  11 out of  11 | elapsed:    0.6s finished\n"
     ]
    }
   ],
   "source": [
    "from sklearn.ensemble import RandomForestRegressor as RFR\n",
    "from sklearn.metrics import mean_squared_error\n",
    "\n",
    "initial_preds = {} # stores the RMSE and predictions for x_testFinal\n",
    "final_preds = {} # store the predictions for testFinal, with x_testFinal's RMSE\n",
    "num_iterations = 15\n",
    "# Create an empty dataframe to contain all of the inputs for each iteration of the model\n",
    "results_rfr = pd.DataFrame(columns=[\"RMSE\",\n",
    "                                    \"n_estimators\", \n",
    "                                    \"max_depth\", \n",
    "                                    \"min_samples_split\"])\n",
    "\n",
    "for i in range(num_iterations):\n",
    "    # Use random search to choose the inputs' values\n",
    "    n_estimators = np.random.randint(10,20)\n",
    "    max_depth = np.random.randint(6,12)\n",
    "    min_samples_split = np.random.randint(2,50)\n",
    "\n",
    "    rfr = RFR(n_estimators = n_estimators,\n",
    "          max_depth = max_depth,\n",
    "          min_samples_split = min_samples_split,\n",
    "          verbose = 2,\n",
    "          random_state = 2)\n",
    "    \n",
    "    rfr = rfr.fit(x_train, y_train.values)\n",
    "\n",
    "    y_preds_rfr = rfr.predict(x_testFinal)\n",
    "    RMSE_rfr = np.sqrt(mean_squared_error(y_testFinal, y_preds_rfr))\n",
    "    print(\"RMSE for iteration #{} is {}.\".format(i+1, RMSE_rfr))\n",
    "    print(\"NE={}, MD={}, MSS={}\".format(n_estimators,\n",
    "                                        max_depth,\n",
    "                                        min_samples_split))\n",
    "    print\n",
    "    \n",
    "    initial_preds[RMSE_rfr] = y_preds_rfr\n",
    "    testFinal_preds_rfr = rfr.predict(testFinal)\n",
    "    final_preds[RMSE_rfr] = [testFinal_preds_rfr]\n",
    "    \n",
    "    # Create a dataframe with the values above\n",
    "    new_row = pd.DataFrame([[RMSE_rfr,\n",
    "                             n_estimators, \n",
    "                             max_depth, \n",
    "                             min_samples_split]],\n",
    "                     columns = [\"RMSE\",\n",
    "                                \"n_estimators\", \n",
    "                                \"max_depth\", \n",
    "                                \"min_samples_split\"])\n",
    "    \n",
    "    # Append the dataframe as a new row in results_df\n",
    "    results_rfr = results_rfr.append(new_row, ignore_index=True)"
   ]
  },
  {
   "cell_type": "code",
   "execution_count": 186,
   "metadata": {},
   "outputs": [
    {
     "data": {
      "text/html": [
       "<div>\n",
       "<style>\n",
       "    .dataframe thead tr:only-child th {\n",
       "        text-align: right;\n",
       "    }\n",
       "\n",
       "    .dataframe thead th {\n",
       "        text-align: left;\n",
       "    }\n",
       "\n",
       "    .dataframe tbody tr th {\n",
       "        vertical-align: top;\n",
       "    }\n",
       "</style>\n",
       "<table border=\"1\" class=\"dataframe\">\n",
       "  <thead>\n",
       "    <tr style=\"text-align: right;\">\n",
       "      <th></th>\n",
       "      <th>RMSE</th>\n",
       "      <th>n_estimators</th>\n",
       "      <th>max_depth</th>\n",
       "      <th>min_samples_split</th>\n",
       "    </tr>\n",
       "  </thead>\n",
       "  <tbody>\n",
       "    <tr>\n",
       "      <th>0</th>\n",
       "      <td>0.456855</td>\n",
       "      <td>11</td>\n",
       "      <td>7</td>\n",
       "      <td>16</td>\n",
       "    </tr>\n",
       "    <tr>\n",
       "      <th>1</th>\n",
       "      <td>0.428211</td>\n",
       "      <td>15</td>\n",
       "      <td>11</td>\n",
       "      <td>4</td>\n",
       "    </tr>\n",
       "    <tr>\n",
       "      <th>2</th>\n",
       "      <td>0.439770</td>\n",
       "      <td>18</td>\n",
       "      <td>9</td>\n",
       "      <td>19</td>\n",
       "    </tr>\n",
       "    <tr>\n",
       "      <th>3</th>\n",
       "      <td>0.456853</td>\n",
       "      <td>11</td>\n",
       "      <td>7</td>\n",
       "      <td>9</td>\n",
       "    </tr>\n",
       "    <tr>\n",
       "      <th>4</th>\n",
       "      <td>0.433753</td>\n",
       "      <td>11</td>\n",
       "      <td>10</td>\n",
       "      <td>49</td>\n",
       "    </tr>\n",
       "    <tr>\n",
       "      <th>5</th>\n",
       "      <td>0.456601</td>\n",
       "      <td>17</td>\n",
       "      <td>7</td>\n",
       "      <td>22</td>\n",
       "    </tr>\n",
       "    <tr>\n",
       "      <th>6</th>\n",
       "      <td>0.433218</td>\n",
       "      <td>15</td>\n",
       "      <td>10</td>\n",
       "      <td>20</td>\n",
       "    </tr>\n",
       "    <tr>\n",
       "      <th>7</th>\n",
       "      <td>0.447531</td>\n",
       "      <td>10</td>\n",
       "      <td>8</td>\n",
       "      <td>21</td>\n",
       "    </tr>\n",
       "    <tr>\n",
       "      <th>8</th>\n",
       "      <td>0.456807</td>\n",
       "      <td>13</td>\n",
       "      <td>7</td>\n",
       "      <td>20</td>\n",
       "    </tr>\n",
       "    <tr>\n",
       "      <th>9</th>\n",
       "      <td>0.433175</td>\n",
       "      <td>17</td>\n",
       "      <td>10</td>\n",
       "      <td>20</td>\n",
       "    </tr>\n",
       "    <tr>\n",
       "      <th>10</th>\n",
       "      <td>0.428762</td>\n",
       "      <td>10</td>\n",
       "      <td>11</td>\n",
       "      <td>24</td>\n",
       "    </tr>\n",
       "    <tr>\n",
       "      <th>11</th>\n",
       "      <td>0.447075</td>\n",
       "      <td>18</td>\n",
       "      <td>8</td>\n",
       "      <td>33</td>\n",
       "    </tr>\n",
       "    <tr>\n",
       "      <th>12</th>\n",
       "      <td>0.439843</td>\n",
       "      <td>19</td>\n",
       "      <td>9</td>\n",
       "      <td>46</td>\n",
       "    </tr>\n",
       "    <tr>\n",
       "      <th>13</th>\n",
       "      <td>0.467962</td>\n",
       "      <td>10</td>\n",
       "      <td>6</td>\n",
       "      <td>27</td>\n",
       "    </tr>\n",
       "    <tr>\n",
       "      <th>14</th>\n",
       "      <td>0.428541</td>\n",
       "      <td>11</td>\n",
       "      <td>11</td>\n",
       "      <td>18</td>\n",
       "    </tr>\n",
       "  </tbody>\n",
       "</table>\n",
       "</div>"
      ],
      "text/plain": [
       "        RMSE n_estimators max_depth min_samples_split\n",
       "0   0.456855           11         7                16\n",
       "1   0.428211           15        11                 4\n",
       "2   0.439770           18         9                19\n",
       "3   0.456853           11         7                 9\n",
       "4   0.433753           11        10                49\n",
       "5   0.456601           17         7                22\n",
       "6   0.433218           15        10                20\n",
       "7   0.447531           10         8                21\n",
       "8   0.456807           13         7                20\n",
       "9   0.433175           17        10                20\n",
       "10  0.428762           10        11                24\n",
       "11  0.447075           18         8                33\n",
       "12  0.439843           19         9                46\n",
       "13  0.467962           10         6                27\n",
       "14  0.428541           11        11                18"
      ]
     },
     "execution_count": 186,
     "metadata": {},
     "output_type": "execute_result"
    }
   ],
   "source": [
    "# Check the results\n",
    "results_rfr"
   ]
  },
  {
   "cell_type": "code",
   "execution_count": 187,
   "metadata": {},
   "outputs": [
    {
     "data": {
      "text/plain": [
       "array([0, 0, 0, ..., 0, 0, 0])"
      ]
     },
     "execution_count": 187,
     "metadata": {},
     "output_type": "execute_result"
    }
   ],
   "source": [
    "np.array([0]*len(x_testFinal))"
   ]
  },
  {
   "cell_type": "code",
   "execution_count": 188,
   "metadata": {},
   "outputs": [
    {
     "name": "stdout",
     "output_type": "stream",
     "text": [
      "[0.4282110202200761, 0.42854149664053526, 0.4287616879262411, 0.43317502933295576, 0.43321787960323904, 0.43375260075256783, 0.4397698901347102, 0.43984281873536046, 0.44707507728311563, 0.44753088999262297, 0.4566009281031706, 0.4568070975096298, 0.4568525915636711, 0.4568550582949483, 0.46796209150084006]\n"
     ]
    }
   ],
   "source": [
    "sorted_initial_RMSE = sorted(initial_preds)\n",
    "print(sorted_initial_RMSE)"
   ]
  },
  {
   "cell_type": "code",
   "execution_count": 189,
   "metadata": {},
   "outputs": [
    {
     "data": {
      "text/plain": [
       "{0.4282110202200761: array([6.62355815, 5.31780773, 5.92945812, ..., 6.04090368, 5.7827711 ,\n",
       "        5.95793513]),\n",
       " 0.42854149664053526: array([6.62612394, 5.29827897, 5.94544423, ..., 6.02070292, 5.79397715,\n",
       "        5.95361189]),\n",
       " 0.4287616879262411: array([6.62860321, 5.2874987 , 5.94405284, ..., 6.0219115 , 5.80077764,\n",
       "        5.9360246 ]),\n",
       " 0.43317502933295576: array([6.63226592, 5.38385483, 5.88447222, ..., 5.99449697, 5.76648907,\n",
       "        5.8711668 ]),\n",
       " 0.43321787960323904: array([6.62955412, 5.38887693, 5.88731125, ..., 6.01568324, 5.76272196,\n",
       "        5.87102506]),\n",
       " 0.43375260075256783: array([6.63016257, 5.39802468, 5.88268972, ..., 6.0021647 , 5.77926457,\n",
       "        5.87432338]),\n",
       " 0.4397698901347102: array([6.68350691, 5.54808258, 5.8035301 , ..., 6.00724179, 5.72236111,\n",
       "        5.8958531 ]),\n",
       " 0.43984281873536046: array([6.68200262, 5.5580221 , 5.79521353, ..., 6.00602176, 5.72558959,\n",
       "        5.90296564]),\n",
       " 0.44707507728311563: array([6.72902714, 5.7307737 , 5.84812251, ..., 5.93085151, 5.75239117,\n",
       "        5.99821002]),\n",
       " 0.44753088999262297: array([6.73067291, 5.71079248, 5.86165026, ..., 5.94485578, 5.78103486,\n",
       "        5.97280002]),\n",
       " 0.4566009281031706: array([6.81887339, 5.72540924, 5.90594433, ..., 5.88077418, 5.71214946,\n",
       "        5.97401425]),\n",
       " 0.4568070975096298: array([6.81904684, 5.72782814, 5.90857947, ..., 5.89437816, 5.70915626,\n",
       "        5.96489859]),\n",
       " 0.4568525915636711: array([6.81924171, 5.72871507, 5.90676876, ..., 5.88755061, 5.70621353,\n",
       "        5.97089293]),\n",
       " 0.4568550582949483: array([6.81924171, 5.72871507, 5.90676876, ..., 5.88755061, 5.70621353,\n",
       "        5.97089293]),\n",
       " 0.46796209150084006: array([6.74650694, 5.66097851, 5.97081589, ..., 5.83999342, 5.861351  ,\n",
       "        5.90839605])}"
      ]
     },
     "execution_count": 189,
     "metadata": {},
     "output_type": "execute_result"
    }
   ],
   "source": [
    "initial_preds"
   ]
  },
  {
   "cell_type": "code",
   "execution_count": 192,
   "metadata": {},
   "outputs": [
    {
     "name": "stdout",
     "output_type": "stream",
     "text": [
      "('RMSE = ', 0.4282110202200761)\n",
      "('RMSE = ', 0.42854149664053526)\n",
      "('RMSE = ', 0.4287616879262411)\n",
      "('RMSE = ', 0.43317502933295576)\n",
      "('RMSE = ', 0.43321787960323904)\n",
      "('RMSE = ', 0.43375260075256783)\n",
      "('RMSE = ', 0.4397698901347102)\n",
      "('RMSE = ', 0.43984281873536046)\n",
      "('RMSE = ', 0.44707507728311563)\n",
      "('RMSE = ', 0.44753088999262297)\n",
      "('RMSE = ', 0.4566009281031706)\n",
      "('RMSE = ', 0.4568070975096298)\n",
      "('RMSE = ', 0.4568525915636711)\n",
      "('RMSE = ', 0.4568550582949483)\n",
      "('RMSE = ', 0.46796209150084006)\n"
     ]
    }
   ],
   "source": [
    "for model in sorted_initial_RMSE:\n",
    "    predictions = initial_preds[model]\n",
    "    RMSE = np.sqrt(mean_squared_error(y_testFinal, predictions))\n",
    "    print(\"RMSE = \", RMSE)"
   ]
  },
  {
   "cell_type": "code",
   "execution_count": 198,
   "metadata": {
    "collapsed": true
   },
   "outputs": [],
   "source": [
    "a[RMSE_rfr] = y_preds_rfr"
   ]
  },
  {
   "cell_type": "code",
   "execution_count": 197,
   "metadata": {
    "collapsed": true
   },
   "outputs": [],
   "source": [
    "a={}"
   ]
  },
  {
   "cell_type": "code",
   "execution_count": 199,
   "metadata": {},
   "outputs": [
    {
     "data": {
      "text/plain": [
       "{0.42854149664053526: array([6.62612394, 5.29827897, 5.94544423, ..., 6.02070292, 5.79397715,\n",
       "        5.95361189])}"
      ]
     },
     "execution_count": 199,
     "metadata": {},
     "output_type": "execute_result"
    }
   ],
   "source": [
    "a"
   ]
  },
  {
   "cell_type": "code",
   "execution_count": 205,
   "metadata": {
    "collapsed": true
   },
   "outputs": [],
   "source": [
    "predictions = final_preds[model][0]\n",
    "best_predictions = pd.DataFrame(np.exp(predictions)-1)"
   ]
  },
  {
   "cell_type": "code",
   "execution_count": 211,
   "metadata": {
    "collapsed": true
   },
   "outputs": [],
   "source": [
    "# Prepare the dataframe for submitting to Kaggle\n",
    "best_predictions['id'] = test.id\n",
    "best_predictions['trip_duration'] = best_predictions[0]\n",
    "best_predictions = best_predictions.drop([0],1)\n",
    "\n",
    "#best_predictions.to_csv(\"submission_combined.csv\", index=False)# Preview the predictions\n"
   ]
  },
  {
   "cell_type": "code",
   "execution_count": 212,
   "metadata": {},
   "outputs": [
    {
     "data": {
      "text/html": [
       "<div>\n",
       "<style>\n",
       "    .dataframe thead tr:only-child th {\n",
       "        text-align: right;\n",
       "    }\n",
       "\n",
       "    .dataframe thead th {\n",
       "        text-align: left;\n",
       "    }\n",
       "\n",
       "    .dataframe tbody tr th {\n",
       "        vertical-align: top;\n",
       "    }\n",
       "</style>\n",
       "<table border=\"1\" class=\"dataframe\">\n",
       "  <thead>\n",
       "    <tr style=\"text-align: right;\">\n",
       "      <th></th>\n",
       "      <th>id</th>\n",
       "      <th>trip_duration</th>\n",
       "    </tr>\n",
       "  </thead>\n",
       "  <tbody>\n",
       "    <tr>\n",
       "      <th>0</th>\n",
       "      <td>id3004672</td>\n",
       "      <td>696.889603</td>\n",
       "    </tr>\n",
       "    <tr>\n",
       "      <th>1</th>\n",
       "      <td>id3505355</td>\n",
       "      <td>696.889603</td>\n",
       "    </tr>\n",
       "    <tr>\n",
       "      <th>2</th>\n",
       "      <td>id1217141</td>\n",
       "      <td>390.825226</td>\n",
       "    </tr>\n",
       "    <tr>\n",
       "      <th>3</th>\n",
       "      <td>id2150126</td>\n",
       "      <td>1196.679408</td>\n",
       "    </tr>\n",
       "    <tr>\n",
       "      <th>4</th>\n",
       "      <td>id1598245</td>\n",
       "      <td>390.825226</td>\n",
       "    </tr>\n",
       "  </tbody>\n",
       "</table>\n",
       "</div>"
      ],
      "text/plain": [
       "          id  trip_duration\n",
       "0  id3004672     696.889603\n",
       "1  id3505355     696.889603\n",
       "2  id1217141     390.825226\n",
       "3  id2150126    1196.679408\n",
       "4  id1598245     390.825226"
      ]
     },
     "execution_count": 212,
     "metadata": {},
     "output_type": "execute_result"
    }
   ],
   "source": [
    "best_predictions.head()"
   ]
  },
  {
   "cell_type": "markdown",
   "metadata": {},
   "source": [
    "## build lightgbm"
   ]
  },
  {
   "cell_type": "code",
   "execution_count": 59,
   "metadata": {},
   "outputs": [],
   "source": [
    "import lightgbm as lgb\n",
    "from sklearn.metrics import mean_squared_error"
   ]
  },
  {
   "cell_type": "code",
   "execution_count": 67,
   "metadata": {},
   "outputs": [
    {
     "name": "stdout",
     "output_type": "stream",
     "text": [
      "[1]\tvalid_0's rmse: 0.674189\n",
      "Training until validation scores don't improve for 5 rounds.\n",
      "[2]\tvalid_0's rmse: 0.587181\n",
      "[3]\tvalid_0's rmse: 0.532617\n",
      "[4]\tvalid_0's rmse: 0.49581\n",
      "[5]\tvalid_0's rmse: 0.473334\n",
      "[6]\tvalid_0's rmse: 0.454895\n",
      "[7]\tvalid_0's rmse: 0.443008\n",
      "[8]\tvalid_0's rmse: 0.434458\n",
      "[9]\tvalid_0's rmse: 0.428749\n",
      "[10]\tvalid_0's rmse: 0.423955\n",
      "[11]\tvalid_0's rmse: 0.421128\n",
      "[12]\tvalid_0's rmse: 0.418683\n",
      "[13]\tvalid_0's rmse: 0.416752\n",
      "[14]\tvalid_0's rmse: 0.414277\n",
      "[15]\tvalid_0's rmse: 0.412963\n",
      "[16]\tvalid_0's rmse: 0.411451\n",
      "[17]\tvalid_0's rmse: 0.410154\n",
      "[18]\tvalid_0's rmse: 0.40898\n",
      "[19]\tvalid_0's rmse: 0.40832\n",
      "[20]\tvalid_0's rmse: 0.407476\n",
      "[21]\tvalid_0's rmse: 0.405977\n",
      "[22]\tvalid_0's rmse: 0.405485\n",
      "[23]\tvalid_0's rmse: 0.404569\n",
      "[24]\tvalid_0's rmse: 0.403703\n",
      "[25]\tvalid_0's rmse: 0.402997\n",
      "[26]\tvalid_0's rmse: 0.402494\n",
      "[27]\tvalid_0's rmse: 0.402028\n",
      "[28]\tvalid_0's rmse: 0.401234\n",
      "[29]\tvalid_0's rmse: 0.400874\n",
      "[30]\tvalid_0's rmse: 0.400628\n",
      "[31]\tvalid_0's rmse: 0.400481\n",
      "[32]\tvalid_0's rmse: 0.399697\n",
      "[33]\tvalid_0's rmse: 0.399473\n",
      "[34]\tvalid_0's rmse: 0.39917\n",
      "[35]\tvalid_0's rmse: 0.398922\n",
      "[36]\tvalid_0's rmse: 0.398723\n",
      "[37]\tvalid_0's rmse: 0.398519\n",
      "[38]\tvalid_0's rmse: 0.39836\n",
      "[39]\tvalid_0's rmse: 0.39821\n",
      "[40]\tvalid_0's rmse: 0.39813\n",
      "[41]\tvalid_0's rmse: 0.397884\n",
      "[42]\tvalid_0's rmse: 0.397393\n",
      "[43]\tvalid_0's rmse: 0.397337\n",
      "[44]\tvalid_0's rmse: 0.397243\n",
      "[45]\tvalid_0's rmse: 0.39708\n",
      "[46]\tvalid_0's rmse: 0.396817\n",
      "[47]\tvalid_0's rmse: 0.396513\n",
      "[48]\tvalid_0's rmse: 0.396454\n",
      "[49]\tvalid_0's rmse: 0.396316\n",
      "[50]\tvalid_0's rmse: 0.396204\n",
      "[51]\tvalid_0's rmse: 0.395949\n",
      "[52]\tvalid_0's rmse: 0.39581\n",
      "[53]\tvalid_0's rmse: 0.395521\n",
      "[54]\tvalid_0's rmse: 0.395424\n",
      "[55]\tvalid_0's rmse: 0.395414\n",
      "[56]\tvalid_0's rmse: 0.395332\n",
      "[57]\tvalid_0's rmse: 0.395121\n",
      "[58]\tvalid_0's rmse: 0.395017\n",
      "[59]\tvalid_0's rmse: 0.394973\n",
      "[60]\tvalid_0's rmse: 0.394706\n",
      "[61]\tvalid_0's rmse: 0.394658\n",
      "[62]\tvalid_0's rmse: 0.394538\n",
      "[63]\tvalid_0's rmse: 0.394463\n",
      "[64]\tvalid_0's rmse: 0.394416\n",
      "[65]\tvalid_0's rmse: 0.394297\n",
      "[66]\tvalid_0's rmse: 0.394339\n",
      "[67]\tvalid_0's rmse: 0.394326\n",
      "[68]\tvalid_0's rmse: 0.394245\n",
      "[69]\tvalid_0's rmse: 0.394219\n",
      "[70]\tvalid_0's rmse: 0.393989\n",
      "[71]\tvalid_0's rmse: 0.393879\n",
      "[72]\tvalid_0's rmse: 0.393753\n",
      "[73]\tvalid_0's rmse: 0.393696\n",
      "[74]\tvalid_0's rmse: 0.393681\n",
      "[75]\tvalid_0's rmse: 0.39363\n",
      "[76]\tvalid_0's rmse: 0.393482\n",
      "[77]\tvalid_0's rmse: 0.393568\n",
      "[78]\tvalid_0's rmse: 0.393517\n",
      "[79]\tvalid_0's rmse: 0.393335\n",
      "[80]\tvalid_0's rmse: 0.393231\n",
      "[81]\tvalid_0's rmse: 0.393182\n",
      "[82]\tvalid_0's rmse: 0.393172\n",
      "[83]\tvalid_0's rmse: 0.393013\n",
      "[84]\tvalid_0's rmse: 0.392889\n",
      "[85]\tvalid_0's rmse: 0.39292\n",
      "[86]\tvalid_0's rmse: 0.39285\n",
      "[87]\tvalid_0's rmse: 0.392857\n",
      "[88]\tvalid_0's rmse: 0.392729\n",
      "[89]\tvalid_0's rmse: 0.392752\n",
      "[90]\tvalid_0's rmse: 0.392675\n",
      "[91]\tvalid_0's rmse: 0.392663\n",
      "[92]\tvalid_0's rmse: 0.392592\n",
      "[93]\tvalid_0's rmse: 0.392495\n",
      "[94]\tvalid_0's rmse: 0.392472\n",
      "[95]\tvalid_0's rmse: 0.392482\n",
      "[96]\tvalid_0's rmse: 0.392443\n",
      "[97]\tvalid_0's rmse: 0.392409\n",
      "[98]\tvalid_0's rmse: 0.392385\n",
      "[99]\tvalid_0's rmse: 0.392355\n",
      "[100]\tvalid_0's rmse: 0.39239\n",
      "Did not meet early stopping. Best iteration is:\n",
      "[99]\tvalid_0's rmse: 0.392355\n",
      "RMSE for iteration #1 is 0.392210819914.\n",
      "NL=162, MD=10, FF=0.700543642405, BF=0.968786813783, BQ=8, LR=0.246092812884, NE=100, ESR=5\n",
      "\n",
      "[1]\tvalid_0's rmse: 0.488475\n",
      "Training until validation scores don't improve for 5 rounds.\n",
      "[2]\tvalid_0's rmse: 0.444706\n",
      "[3]\tvalid_0's rmse: 0.434078\n",
      "[4]\tvalid_0's rmse: 0.429183\n",
      "[5]\tvalid_0's rmse: 0.427044\n",
      "[6]\tvalid_0's rmse: 0.421773\n",
      "[7]\tvalid_0's rmse: 0.419706\n",
      "[8]\tvalid_0's rmse: 0.4184\n",
      "[9]\tvalid_0's rmse: 0.416914\n",
      "[10]\tvalid_0's rmse: 0.415343\n",
      "[11]\tvalid_0's rmse: 0.414162\n",
      "[12]\tvalid_0's rmse: 0.412616\n",
      "[13]\tvalid_0's rmse: 0.412587\n",
      "[14]\tvalid_0's rmse: 0.412267\n",
      "[15]\tvalid_0's rmse: 0.411545\n",
      "[16]\tvalid_0's rmse: 0.410747\n",
      "[17]\tvalid_0's rmse: 0.41037\n",
      "[18]\tvalid_0's rmse: 0.410087\n",
      "[19]\tvalid_0's rmse: 0.409563\n",
      "[20]\tvalid_0's rmse: 0.40919\n",
      "[21]\tvalid_0's rmse: 0.408729\n",
      "[22]\tvalid_0's rmse: 0.408693\n",
      "[23]\tvalid_0's rmse: 0.408517\n",
      "[24]\tvalid_0's rmse: 0.409061\n",
      "[25]\tvalid_0's rmse: 0.40884\n",
      "[26]\tvalid_0's rmse: 0.408771\n",
      "[27]\tvalid_0's rmse: 0.408611\n",
      "[28]\tvalid_0's rmse: 0.4085\n",
      "[29]\tvalid_0's rmse: 0.408277\n",
      "[30]\tvalid_0's rmse: 0.407932\n",
      "[31]\tvalid_0's rmse: 0.407965\n",
      "[32]\tvalid_0's rmse: 0.407661\n",
      "[33]\tvalid_0's rmse: 0.407551\n",
      "[34]\tvalid_0's rmse: 0.407582\n",
      "[35]\tvalid_0's rmse: 0.40746\n",
      "[36]\tvalid_0's rmse: 0.407332\n",
      "[37]\tvalid_0's rmse: 0.407349\n",
      "[38]\tvalid_0's rmse: 0.407036\n",
      "[39]\tvalid_0's rmse: 0.406789\n",
      "[40]\tvalid_0's rmse: 0.406668\n",
      "[41]\tvalid_0's rmse: 0.406651\n",
      "[42]\tvalid_0's rmse: 0.406552\n",
      "[43]\tvalid_0's rmse: 0.40657\n",
      "[44]\tvalid_0's rmse: 0.406986\n",
      "[45]\tvalid_0's rmse: 0.406877\n",
      "[46]\tvalid_0's rmse: 0.406681\n",
      "[47]\tvalid_0's rmse: 0.406605\n",
      "Early stopping, best iteration is:\n",
      "[42]\tvalid_0's rmse: 0.406552\n",
      "RMSE for iteration #2 is 0.405534282759.\n",
      "NL=158, MD=8, FF=0.968058556339, BF=0.948918153223, BQ=3, LR=0.732424336263, NE=100, ESR=5\n",
      "\n",
      "[1]\tvalid_0's rmse: 0.666527\n",
      "Training until validation scores don't improve for 5 rounds.\n",
      "[2]\tvalid_0's rmse: 0.58052\n",
      "[3]\tvalid_0's rmse: 0.525183\n",
      "[4]\tvalid_0's rmse: 0.490026\n",
      "[5]\tvalid_0's rmse: 0.46716\n",
      "[6]\tvalid_0's rmse: 0.452589\n",
      "[7]\tvalid_0's rmse: 0.442442\n",
      "[8]\tvalid_0's rmse: 0.434941\n",
      "[9]\tvalid_0's rmse: 0.429342\n",
      "[10]\tvalid_0's rmse: 0.425666\n",
      "[11]\tvalid_0's rmse: 0.422275\n",
      "[12]\tvalid_0's rmse: 0.419013\n",
      "[13]\tvalid_0's rmse: 0.416995\n",
      "[14]\tvalid_0's rmse: 0.415515\n",
      "[15]\tvalid_0's rmse: 0.413547\n",
      "[16]\tvalid_0's rmse: 0.41278\n",
      "[17]\tvalid_0's rmse: 0.411158\n",
      "[18]\tvalid_0's rmse: 0.410094\n",
      "[19]\tvalid_0's rmse: 0.408633\n",
      "[20]\tvalid_0's rmse: 0.408164\n",
      "[21]\tvalid_0's rmse: 0.407577\n",
      "[22]\tvalid_0's rmse: 0.406282\n",
      "[23]\tvalid_0's rmse: 0.405847\n",
      "[24]\tvalid_0's rmse: 0.405387\n",
      "[25]\tvalid_0's rmse: 0.404724\n",
      "[26]\tvalid_0's rmse: 0.404409\n",
      "[27]\tvalid_0's rmse: 0.403715\n",
      "[28]\tvalid_0's rmse: 0.403493\n",
      "[29]\tvalid_0's rmse: 0.402915\n",
      "[30]\tvalid_0's rmse: 0.40242\n",
      "[31]\tvalid_0's rmse: 0.401924\n",
      "[32]\tvalid_0's rmse: 0.401713\n",
      "[33]\tvalid_0's rmse: 0.401347\n",
      "[34]\tvalid_0's rmse: 0.401104\n",
      "[35]\tvalid_0's rmse: 0.40057\n",
      "[36]\tvalid_0's rmse: 0.400261\n",
      "[37]\tvalid_0's rmse: 0.40018\n",
      "[38]\tvalid_0's rmse: 0.399999\n",
      "[39]\tvalid_0's rmse: 0.399651\n",
      "[40]\tvalid_0's rmse: 0.399495\n",
      "[41]\tvalid_0's rmse: 0.399218\n",
      "[42]\tvalid_0's rmse: 0.39919\n",
      "[43]\tvalid_0's rmse: 0.399005\n",
      "[44]\tvalid_0's rmse: 0.398863\n",
      "[45]\tvalid_0's rmse: 0.39866\n",
      "[46]\tvalid_0's rmse: 0.398806\n",
      "[47]\tvalid_0's rmse: 0.398694\n",
      "[48]\tvalid_0's rmse: 0.398621\n",
      "[49]\tvalid_0's rmse: 0.398331\n",
      "[50]\tvalid_0's rmse: 0.398243\n",
      "[51]\tvalid_0's rmse: 0.397915\n",
      "[52]\tvalid_0's rmse: 0.397995\n",
      "[53]\tvalid_0's rmse: 0.397851\n",
      "[54]\tvalid_0's rmse: 0.397742\n",
      "[55]\tvalid_0's rmse: 0.397697\n",
      "[56]\tvalid_0's rmse: 0.397599\n",
      "[57]\tvalid_0's rmse: 0.397429\n",
      "[58]\tvalid_0's rmse: 0.39731\n",
      "[59]\tvalid_0's rmse: 0.397229\n",
      "[60]\tvalid_0's rmse: 0.397103\n",
      "[61]\tvalid_0's rmse: 0.396809\n",
      "[62]\tvalid_0's rmse: 0.396685\n",
      "[63]\tvalid_0's rmse: 0.396614\n",
      "[64]\tvalid_0's rmse: 0.396538\n",
      "[65]\tvalid_0's rmse: 0.396506\n",
      "[66]\tvalid_0's rmse: 0.396478\n",
      "[67]\tvalid_0's rmse: 0.396475\n",
      "[68]\tvalid_0's rmse: 0.396437\n",
      "[69]\tvalid_0's rmse: 0.39641\n",
      "[70]\tvalid_0's rmse: 0.396301\n",
      "[71]\tvalid_0's rmse: 0.396308\n",
      "[72]\tvalid_0's rmse: 0.396106\n",
      "[73]\tvalid_0's rmse: 0.396045\n",
      "[74]\tvalid_0's rmse: 0.395887\n",
      "[75]\tvalid_0's rmse: 0.395861\n",
      "[76]\tvalid_0's rmse: 0.395822\n",
      "[77]\tvalid_0's rmse: 0.39583\n",
      "[78]\tvalid_0's rmse: 0.395776\n",
      "[79]\tvalid_0's rmse: 0.395702\n",
      "[80]\tvalid_0's rmse: 0.395694\n",
      "[81]\tvalid_0's rmse: 0.395706\n",
      "[82]\tvalid_0's rmse: 0.395779\n",
      "[83]\tvalid_0's rmse: 0.395738\n",
      "[84]\tvalid_0's rmse: 0.395726\n",
      "[85]\tvalid_0's rmse: 0.395557\n",
      "[86]\tvalid_0's rmse: 0.395457\n",
      "[87]\tvalid_0's rmse: 0.395405\n",
      "[88]\tvalid_0's rmse: 0.395438\n",
      "[89]\tvalid_0's rmse: 0.395385\n",
      "[90]\tvalid_0's rmse: 0.395347\n",
      "[91]\tvalid_0's rmse: 0.395369\n",
      "[92]\tvalid_0's rmse: 0.395344\n",
      "[93]\tvalid_0's rmse: 0.395311\n",
      "[94]\tvalid_0's rmse: 0.395317\n",
      "[95]\tvalid_0's rmse: 0.395299\n",
      "[96]\tvalid_0's rmse: 0.395298\n",
      "[97]\tvalid_0's rmse: 0.395151\n",
      "[98]\tvalid_0's rmse: 0.395178\n",
      "[99]\tvalid_0's rmse: 0.395122\n",
      "[100]\tvalid_0's rmse: 0.394968\n",
      "Did not meet early stopping. Best iteration is:\n",
      "[100]\tvalid_0's rmse: 0.394968\n",
      "RMSE for iteration #3 is 0.393677757101.\n",
      "NL=117, MD=10, FF=0.993568796033, BF=0.938388814594, BQ=5, LR=0.25619778239, NE=100, ESR=5\n",
      "\n",
      "[1]\tvalid_0's rmse: 0.527123\n",
      "Training until validation scores don't improve for 5 rounds.\n"
     ]
    },
    {
     "name": "stdout",
     "output_type": "stream",
     "text": [
      "[2]\tvalid_0's rmse: 0.455314\n",
      "[3]\tvalid_0's rmse: 0.434923\n",
      "[4]\tvalid_0's rmse: 0.425912\n",
      "[5]\tvalid_0's rmse: 0.421717\n",
      "[6]\tvalid_0's rmse: 0.415834\n",
      "[7]\tvalid_0's rmse: 0.414117\n",
      "[8]\tvalid_0's rmse: 0.412778\n",
      "[9]\tvalid_0's rmse: 0.410565\n",
      "[10]\tvalid_0's rmse: 0.409694\n",
      "[11]\tvalid_0's rmse: 0.409292\n",
      "[12]\tvalid_0's rmse: 0.408908\n",
      "[13]\tvalid_0's rmse: 0.407762\n",
      "[14]\tvalid_0's rmse: 0.407144\n",
      "[15]\tvalid_0's rmse: 0.407156\n",
      "[16]\tvalid_0's rmse: 0.406482\n",
      "[17]\tvalid_0's rmse: 0.406076\n",
      "[18]\tvalid_0's rmse: 0.405643\n",
      "[19]\tvalid_0's rmse: 0.405599\n",
      "[20]\tvalid_0's rmse: 0.405356\n",
      "[21]\tvalid_0's rmse: 0.404791\n",
      "[22]\tvalid_0's rmse: 0.40454\n",
      "[23]\tvalid_0's rmse: 0.404317\n",
      "[24]\tvalid_0's rmse: 0.403884\n",
      "[25]\tvalid_0's rmse: 0.403807\n",
      "[26]\tvalid_0's rmse: 0.403858\n",
      "[27]\tvalid_0's rmse: 0.403647\n",
      "[28]\tvalid_0's rmse: 0.403333\n",
      "[29]\tvalid_0's rmse: 0.403425\n",
      "[30]\tvalid_0's rmse: 0.40362\n",
      "[31]\tvalid_0's rmse: 0.403608\n",
      "[32]\tvalid_0's rmse: 0.403432\n",
      "[33]\tvalid_0's rmse: 0.403326\n",
      "[34]\tvalid_0's rmse: 0.402898\n",
      "[35]\tvalid_0's rmse: 0.402896\n",
      "[36]\tvalid_0's rmse: 0.402627\n",
      "[37]\tvalid_0's rmse: 0.402566\n",
      "[38]\tvalid_0's rmse: 0.402313\n",
      "[39]\tvalid_0's rmse: 0.402287\n",
      "[40]\tvalid_0's rmse: 0.402172\n",
      "[41]\tvalid_0's rmse: 0.40203\n",
      "[42]\tvalid_0's rmse: 0.402129\n",
      "[43]\tvalid_0's rmse: 0.402115\n",
      "[44]\tvalid_0's rmse: 0.402244\n",
      "[45]\tvalid_0's rmse: 0.402277\n",
      "[46]\tvalid_0's rmse: 0.402213\n",
      "Early stopping, best iteration is:\n",
      "[41]\tvalid_0's rmse: 0.40203\n",
      "RMSE for iteration #4 is 0.401838002021.\n",
      "NL=232, MD=9, FF=0.921412149656, BF=0.907274555575, BQ=4, LR=0.583209591477, NE=100, ESR=5\n",
      "\n",
      "[1]\tvalid_0's rmse: 0.466887\n",
      "Training until validation scores don't improve for 5 rounds.\n",
      "[2]\tvalid_0's rmse: 0.44541\n",
      "[3]\tvalid_0's rmse: 0.436966\n",
      "[4]\tvalid_0's rmse: 0.432907\n",
      "[5]\tvalid_0's rmse: 0.430278\n",
      "[6]\tvalid_0's rmse: 0.428334\n",
      "[7]\tvalid_0's rmse: 0.426714\n",
      "[8]\tvalid_0's rmse: 0.424895\n",
      "[9]\tvalid_0's rmse: 0.423597\n",
      "[10]\tvalid_0's rmse: 0.421182\n",
      "[11]\tvalid_0's rmse: 0.420511\n",
      "[12]\tvalid_0's rmse: 0.419586\n",
      "[13]\tvalid_0's rmse: 0.419193\n",
      "[14]\tvalid_0's rmse: 0.418677\n",
      "[15]\tvalid_0's rmse: 0.417687\n",
      "[16]\tvalid_0's rmse: 0.416584\n",
      "[17]\tvalid_0's rmse: 0.416024\n",
      "[18]\tvalid_0's rmse: 0.415543\n",
      "[19]\tvalid_0's rmse: 0.414884\n",
      "[20]\tvalid_0's rmse: 0.414077\n",
      "[21]\tvalid_0's rmse: 0.413693\n",
      "[22]\tvalid_0's rmse: 0.413349\n",
      "[23]\tvalid_0's rmse: 0.412928\n",
      "[24]\tvalid_0's rmse: 0.412648\n",
      "[25]\tvalid_0's rmse: 0.41218\n",
      "[26]\tvalid_0's rmse: 0.412048\n",
      "[27]\tvalid_0's rmse: 0.411931\n",
      "[28]\tvalid_0's rmse: 0.411542\n",
      "[29]\tvalid_0's rmse: 0.411603\n",
      "[30]\tvalid_0's rmse: 0.411282\n",
      "[31]\tvalid_0's rmse: 0.411206\n",
      "[32]\tvalid_0's rmse: 0.410971\n",
      "[33]\tvalid_0's rmse: 0.410781\n",
      "[34]\tvalid_0's rmse: 0.410782\n",
      "[35]\tvalid_0's rmse: 0.410521\n",
      "[36]\tvalid_0's rmse: 0.410158\n",
      "[37]\tvalid_0's rmse: 0.410055\n",
      "[38]\tvalid_0's rmse: 0.410059\n",
      "[39]\tvalid_0's rmse: 0.409899\n",
      "[40]\tvalid_0's rmse: 0.410008\n",
      "[41]\tvalid_0's rmse: 0.410037\n",
      "[42]\tvalid_0's rmse: 0.409934\n",
      "[43]\tvalid_0's rmse: 0.409929\n",
      "[44]\tvalid_0's rmse: 0.409939\n",
      "Early stopping, best iteration is:\n",
      "[39]\tvalid_0's rmse: 0.409899\n",
      "RMSE for iteration #5 is 0.409195061112.\n",
      "NL=117, MD=7, FF=0.909053045135, BF=0.974972405495, BQ=5, LR=0.914713385885, NE=100, ESR=5\n",
      "\n",
      "[1]\tvalid_0's rmse: 0.537978\n",
      "Training until validation scores don't improve for 5 rounds.\n",
      "[2]\tvalid_0's rmse: 0.47384\n",
      "[3]\tvalid_0's rmse: 0.453691\n",
      "[4]\tvalid_0's rmse: 0.440484\n",
      "[5]\tvalid_0's rmse: 0.434417\n",
      "[6]\tvalid_0's rmse: 0.430362\n",
      "[7]\tvalid_0's rmse: 0.429\n",
      "[8]\tvalid_0's rmse: 0.426364\n",
      "[9]\tvalid_0's rmse: 0.424617\n",
      "[10]\tvalid_0's rmse: 0.421706\n",
      "[11]\tvalid_0's rmse: 0.421074\n",
      "[12]\tvalid_0's rmse: 0.419927\n",
      "[13]\tvalid_0's rmse: 0.41923\n",
      "[14]\tvalid_0's rmse: 0.418524\n",
      "[15]\tvalid_0's rmse: 0.417309\n",
      "[16]\tvalid_0's rmse: 0.416671\n",
      "[17]\tvalid_0's rmse: 0.416076\n",
      "[18]\tvalid_0's rmse: 0.414946\n",
      "[19]\tvalid_0's rmse: 0.4142\n",
      "[20]\tvalid_0's rmse: 0.41369\n",
      "[21]\tvalid_0's rmse: 0.413143\n",
      "[22]\tvalid_0's rmse: 0.412657\n",
      "[23]\tvalid_0's rmse: 0.412343\n",
      "[24]\tvalid_0's rmse: 0.411895\n",
      "[25]\tvalid_0's rmse: 0.411461\n",
      "[26]\tvalid_0's rmse: 0.411136\n",
      "[27]\tvalid_0's rmse: 0.410582\n",
      "[28]\tvalid_0's rmse: 0.410311\n",
      "[29]\tvalid_0's rmse: 0.409634\n",
      "[30]\tvalid_0's rmse: 0.409733\n",
      "[31]\tvalid_0's rmse: 0.409292\n",
      "[32]\tvalid_0's rmse: 0.408786\n",
      "[33]\tvalid_0's rmse: 0.408636\n",
      "[34]\tvalid_0's rmse: 0.408341\n",
      "[35]\tvalid_0's rmse: 0.408066\n",
      "[36]\tvalid_0's rmse: 0.407947\n",
      "[37]\tvalid_0's rmse: 0.407713\n",
      "[38]\tvalid_0's rmse: 0.407579\n",
      "[39]\tvalid_0's rmse: 0.407041\n",
      "[40]\tvalid_0's rmse: 0.406985\n",
      "[41]\tvalid_0's rmse: 0.40677\n",
      "[42]\tvalid_0's rmse: 0.406299\n",
      "[43]\tvalid_0's rmse: 0.405909\n",
      "[44]\tvalid_0's rmse: 0.405848\n",
      "[45]\tvalid_0's rmse: 0.405774\n",
      "[46]\tvalid_0's rmse: 0.40559\n",
      "[47]\tvalid_0's rmse: 0.405492\n",
      "[48]\tvalid_0's rmse: 0.405416\n",
      "[49]\tvalid_0's rmse: 0.405137\n",
      "[50]\tvalid_0's rmse: 0.405015\n",
      "[51]\tvalid_0's rmse: 0.404816\n",
      "[52]\tvalid_0's rmse: 0.404685\n",
      "[53]\tvalid_0's rmse: 0.404544\n",
      "[54]\tvalid_0's rmse: 0.404091\n",
      "[55]\tvalid_0's rmse: 0.403955\n",
      "[56]\tvalid_0's rmse: 0.403753\n",
      "[57]\tvalid_0's rmse: 0.403661\n",
      "[58]\tvalid_0's rmse: 0.40368\n",
      "[59]\tvalid_0's rmse: 0.40365\n",
      "[60]\tvalid_0's rmse: 0.403664\n",
      "[61]\tvalid_0's rmse: 0.403579\n",
      "[62]\tvalid_0's rmse: 0.403464\n",
      "[63]\tvalid_0's rmse: 0.403304\n",
      "[64]\tvalid_0's rmse: 0.403207\n",
      "[65]\tvalid_0's rmse: 0.403078\n",
      "[66]\tvalid_0's rmse: 0.402848\n",
      "[67]\tvalid_0's rmse: 0.402562\n",
      "[68]\tvalid_0's rmse: 0.402616\n",
      "[69]\tvalid_0's rmse: 0.402788\n",
      "[70]\tvalid_0's rmse: 0.402628\n",
      "[71]\tvalid_0's rmse: 0.402508\n",
      "[72]\tvalid_0's rmse: 0.402404\n",
      "[73]\tvalid_0's rmse: 0.402313\n",
      "[74]\tvalid_0's rmse: 0.40235\n",
      "[75]\tvalid_0's rmse: 0.402289\n",
      "[76]\tvalid_0's rmse: 0.402182\n",
      "[77]\tvalid_0's rmse: 0.402025\n",
      "[78]\tvalid_0's rmse: 0.401901\n",
      "[79]\tvalid_0's rmse: 0.401746\n",
      "[80]\tvalid_0's rmse: 0.401854\n",
      "[81]\tvalid_0's rmse: 0.401917\n",
      "[82]\tvalid_0's rmse: 0.401775\n",
      "[83]\tvalid_0's rmse: 0.401661\n",
      "[84]\tvalid_0's rmse: 0.401639\n",
      "[85]\tvalid_0's rmse: 0.40155\n",
      "[86]\tvalid_0's rmse: 0.401477\n",
      "[87]\tvalid_0's rmse: 0.401422\n",
      "[88]\tvalid_0's rmse: 0.401368\n",
      "[89]\tvalid_0's rmse: 0.401333\n",
      "[90]\tvalid_0's rmse: 0.401305\n",
      "[91]\tvalid_0's rmse: 0.401368\n",
      "[92]\tvalid_0's rmse: 0.401261\n",
      "[93]\tvalid_0's rmse: 0.40138\n",
      "[94]\tvalid_0's rmse: 0.401335\n",
      "[95]\tvalid_0's rmse: 0.401224\n",
      "[96]\tvalid_0's rmse: 0.401116\n",
      "[97]\tvalid_0's rmse: 0.401176\n",
      "[98]\tvalid_0's rmse: 0.401221\n",
      "[99]\tvalid_0's rmse: 0.401294\n",
      "[100]\tvalid_0's rmse: 0.401263\n",
      "Did not meet early stopping. Best iteration is:\n",
      "[96]\tvalid_0's rmse: 0.401116\n",
      "RMSE for iteration #6 is 0.401254430908.\n",
      "NL=130, MD=6, FF=0.977256883402, BF=0.872566161296, BQ=8, LR=0.598851200259, NE=100, ESR=5\n",
      "\n",
      "[1]\tvalid_0's rmse: 0.530386\n",
      "Training until validation scores don't improve for 5 rounds.\n",
      "[2]\tvalid_0's rmse: 0.461303\n",
      "[3]\tvalid_0's rmse: 0.445175\n",
      "[4]\tvalid_0's rmse: 0.429888\n",
      "[5]\tvalid_0's rmse: 0.42647\n",
      "[6]\tvalid_0's rmse: 0.420663\n",
      "[7]\tvalid_0's rmse: 0.418094\n",
      "[8]\tvalid_0's rmse: 0.417067\n",
      "[9]\tvalid_0's rmse: 0.415915\n",
      "[10]\tvalid_0's rmse: 0.414236\n",
      "[11]\tvalid_0's rmse: 0.413525\n",
      "[12]\tvalid_0's rmse: 0.413056\n",
      "[13]\tvalid_0's rmse: 0.412435\n",
      "[14]\tvalid_0's rmse: 0.411955\n",
      "[15]\tvalid_0's rmse: 0.411237\n",
      "[16]\tvalid_0's rmse: 0.410246\n",
      "[17]\tvalid_0's rmse: 0.40971\n",
      "[18]\tvalid_0's rmse: 0.40971\n",
      "[19]\tvalid_0's rmse: 0.408792\n",
      "[20]\tvalid_0's rmse: 0.408557\n",
      "[21]\tvalid_0's rmse: 0.408319\n",
      "[22]\tvalid_0's rmse: 0.408127\n",
      "[23]\tvalid_0's rmse: 0.407218\n",
      "[24]\tvalid_0's rmse: 0.406876\n",
      "[25]\tvalid_0's rmse: 0.406697\n",
      "[26]\tvalid_0's rmse: 0.406407\n",
      "[27]\tvalid_0's rmse: 0.405779\n",
      "[28]\tvalid_0's rmse: 0.406154\n",
      "[29]\tvalid_0's rmse: 0.405829\n",
      "[30]\tvalid_0's rmse: 0.405603\n",
      "[31]\tvalid_0's rmse: 0.405291\n",
      "[32]\tvalid_0's rmse: 0.405325\n",
      "[33]\tvalid_0's rmse: 0.404881\n",
      "[34]\tvalid_0's rmse: 0.404947\n",
      "[35]\tvalid_0's rmse: 0.404835\n",
      "[36]\tvalid_0's rmse: 0.404386\n",
      "[37]\tvalid_0's rmse: 0.404241\n",
      "[38]\tvalid_0's rmse: 0.404101\n",
      "[39]\tvalid_0's rmse: 0.404133\n",
      "[40]\tvalid_0's rmse: 0.404246\n",
      "[41]\tvalid_0's rmse: 0.404139\n",
      "[42]\tvalid_0's rmse: 0.404088\n",
      "[43]\tvalid_0's rmse: 0.40416\n",
      "[44]\tvalid_0's rmse: 0.40394\n",
      "[45]\tvalid_0's rmse: 0.40391\n",
      "[46]\tvalid_0's rmse: 0.404217\n",
      "[47]\tvalid_0's rmse: 0.403924\n",
      "[48]\tvalid_0's rmse: 0.403834\n",
      "[49]\tvalid_0's rmse: 0.403786\n",
      "[50]\tvalid_0's rmse: 0.403607\n",
      "[51]\tvalid_0's rmse: 0.403246\n",
      "[52]\tvalid_0's rmse: 0.40297\n",
      "[53]\tvalid_0's rmse: 0.402985\n",
      "[54]\tvalid_0's rmse: 0.402899\n",
      "[55]\tvalid_0's rmse: 0.403178\n",
      "[56]\tvalid_0's rmse: 0.403052\n",
      "[57]\tvalid_0's rmse: 0.402994\n",
      "[58]\tvalid_0's rmse: 0.402979\n",
      "[59]\tvalid_0's rmse: 0.403191\n",
      "Early stopping, best iteration is:\n",
      "[54]\tvalid_0's rmse: 0.402899\n"
     ]
    },
    {
     "name": "stdout",
     "output_type": "stream",
     "text": [
      "RMSE for iteration #7 is 0.400439311391.\n",
      "NL=103, MD=8, FF=0.770234541002, BF=0.967662201789, BQ=5, LR=0.62544316292, NE=100, ESR=5\n",
      "\n",
      "[1]\tvalid_0's rmse: 0.462473\n",
      "Training until validation scores don't improve for 5 rounds.\n",
      "[2]\tvalid_0's rmse: 0.437056\n",
      "[3]\tvalid_0's rmse: 0.429603\n",
      "[4]\tvalid_0's rmse: 0.423713\n",
      "[5]\tvalid_0's rmse: 0.42288\n",
      "[6]\tvalid_0's rmse: 0.42041\n",
      "[7]\tvalid_0's rmse: 0.419289\n",
      "[8]\tvalid_0's rmse: 0.417365\n",
      "[9]\tvalid_0's rmse: 0.416604\n",
      "[10]\tvalid_0's rmse: 0.416661\n",
      "[11]\tvalid_0's rmse: 0.416265\n",
      "[12]\tvalid_0's rmse: 0.41591\n",
      "[13]\tvalid_0's rmse: 0.415319\n",
      "[14]\tvalid_0's rmse: 0.41452\n",
      "[15]\tvalid_0's rmse: 0.414571\n",
      "[16]\tvalid_0's rmse: 0.413951\n",
      "[17]\tvalid_0's rmse: 0.413991\n",
      "[18]\tvalid_0's rmse: 0.413472\n",
      "[19]\tvalid_0's rmse: 0.413116\n",
      "[20]\tvalid_0's rmse: 0.413255\n",
      "[21]\tvalid_0's rmse: 0.413003\n",
      "[22]\tvalid_0's rmse: 0.412659\n",
      "[23]\tvalid_0's rmse: 0.412466\n",
      "[24]\tvalid_0's rmse: 0.412513\n",
      "[25]\tvalid_0's rmse: 0.412417\n",
      "[26]\tvalid_0's rmse: 0.412363\n",
      "[27]\tvalid_0's rmse: 0.412647\n",
      "[28]\tvalid_0's rmse: 0.412582\n",
      "[29]\tvalid_0's rmse: 0.412386\n",
      "[30]\tvalid_0's rmse: 0.412611\n",
      "[31]\tvalid_0's rmse: 0.412532\n",
      "Early stopping, best iteration is:\n",
      "[26]\tvalid_0's rmse: 0.412363\n",
      "RMSE for iteration #8 is 0.411462169852.\n",
      "NL=162, MD=9, FF=0.86563134678, BF=0.821086438506, BQ=9, LR=0.875886127918, NE=100, ESR=5\n",
      "\n",
      "[1]\tvalid_0's rmse: 0.638205\n",
      "Training until validation scores don't improve for 5 rounds.\n",
      "[2]\tvalid_0's rmse: 0.544978\n",
      "[3]\tvalid_0's rmse: 0.492049\n",
      "[4]\tvalid_0's rmse: 0.462663\n",
      "[5]\tvalid_0's rmse: 0.446482\n",
      "[6]\tvalid_0's rmse: 0.434381\n",
      "[7]\tvalid_0's rmse: 0.426573\n",
      "[8]\tvalid_0's rmse: 0.422189\n",
      "[9]\tvalid_0's rmse: 0.419072\n",
      "[10]\tvalid_0's rmse: 0.416092\n",
      "[11]\tvalid_0's rmse: 0.414648\n",
      "[12]\tvalid_0's rmse: 0.412552\n",
      "[13]\tvalid_0's rmse: 0.410025\n",
      "[14]\tvalid_0's rmse: 0.409237\n",
      "[15]\tvalid_0's rmse: 0.408306\n",
      "[16]\tvalid_0's rmse: 0.406632\n",
      "[17]\tvalid_0's rmse: 0.405802\n",
      "[18]\tvalid_0's rmse: 0.405512\n",
      "[19]\tvalid_0's rmse: 0.404937\n",
      "[20]\tvalid_0's rmse: 0.404361\n",
      "[21]\tvalid_0's rmse: 0.403623\n",
      "[22]\tvalid_0's rmse: 0.403175\n",
      "[23]\tvalid_0's rmse: 0.402884\n",
      "[24]\tvalid_0's rmse: 0.401848\n",
      "[25]\tvalid_0's rmse: 0.401261\n",
      "[26]\tvalid_0's rmse: 0.401024\n",
      "[27]\tvalid_0's rmse: 0.400974\n",
      "[28]\tvalid_0's rmse: 0.400797\n",
      "[29]\tvalid_0's rmse: 0.400445\n",
      "[30]\tvalid_0's rmse: 0.399988\n",
      "[31]\tvalid_0's rmse: 0.399736\n",
      "[32]\tvalid_0's rmse: 0.399576\n",
      "[33]\tvalid_0's rmse: 0.399032\n",
      "[34]\tvalid_0's rmse: 0.398971\n",
      "[35]\tvalid_0's rmse: 0.398872\n",
      "[36]\tvalid_0's rmse: 0.398547\n",
      "[37]\tvalid_0's rmse: 0.398262\n",
      "[38]\tvalid_0's rmse: 0.397992\n",
      "[39]\tvalid_0's rmse: 0.397825\n",
      "[40]\tvalid_0's rmse: 0.397558\n",
      "[41]\tvalid_0's rmse: 0.397418\n",
      "[42]\tvalid_0's rmse: 0.397402\n",
      "[43]\tvalid_0's rmse: 0.397436\n",
      "[44]\tvalid_0's rmse: 0.39721\n",
      "[45]\tvalid_0's rmse: 0.396907\n",
      "[46]\tvalid_0's rmse: 0.396935\n",
      "[47]\tvalid_0's rmse: 0.396928\n",
      "[48]\tvalid_0's rmse: 0.396889\n",
      "[49]\tvalid_0's rmse: 0.396775\n",
      "[50]\tvalid_0's rmse: 0.396663\n",
      "[51]\tvalid_0's rmse: 0.396573\n",
      "[52]\tvalid_0's rmse: 0.396513\n",
      "[53]\tvalid_0's rmse: 0.396416\n",
      "[54]\tvalid_0's rmse: 0.396451\n",
      "[55]\tvalid_0's rmse: 0.396438\n",
      "[56]\tvalid_0's rmse: 0.396339\n",
      "[57]\tvalid_0's rmse: 0.39629\n",
      "[58]\tvalid_0's rmse: 0.396196\n",
      "[59]\tvalid_0's rmse: 0.396043\n",
      "[60]\tvalid_0's rmse: 0.396029\n",
      "[61]\tvalid_0's rmse: 0.395837\n",
      "[62]\tvalid_0's rmse: 0.395756\n",
      "[63]\tvalid_0's rmse: 0.395707\n",
      "[64]\tvalid_0's rmse: 0.395645\n",
      "[65]\tvalid_0's rmse: 0.39556\n",
      "[66]\tvalid_0's rmse: 0.395537\n",
      "[67]\tvalid_0's rmse: 0.395358\n",
      "[68]\tvalid_0's rmse: 0.39536\n",
      "[69]\tvalid_0's rmse: 0.395231\n",
      "[70]\tvalid_0's rmse: 0.395216\n",
      "[71]\tvalid_0's rmse: 0.395071\n",
      "[72]\tvalid_0's rmse: 0.395045\n",
      "[73]\tvalid_0's rmse: 0.394979\n",
      "[74]\tvalid_0's rmse: 0.394934\n",
      "[75]\tvalid_0's rmse: 0.39498\n",
      "[76]\tvalid_0's rmse: 0.395046\n",
      "[77]\tvalid_0's rmse: 0.395173\n",
      "[78]\tvalid_0's rmse: 0.395254\n",
      "[79]\tvalid_0's rmse: 0.395223\n",
      "Early stopping, best iteration is:\n",
      "[74]\tvalid_0's rmse: 0.394934\n",
      "RMSE for iteration #9 is 0.393562623089.\n",
      "NL=200, MD=9, FF=0.937788769818, BF=0.919562324528, BQ=5, LR=0.312108767243, NE=100, ESR=5\n",
      "\n",
      "[1]\tvalid_0's rmse: 0.5009\n",
      "Training until validation scores don't improve for 5 rounds.\n",
      "[2]\tvalid_0's rmse: 0.44882\n",
      "[3]\tvalid_0's rmse: 0.434738\n",
      "[4]\tvalid_0's rmse: 0.427764\n",
      "[5]\tvalid_0's rmse: 0.424599\n",
      "[6]\tvalid_0's rmse: 0.422406\n",
      "[7]\tvalid_0's rmse: 0.419518\n",
      "[8]\tvalid_0's rmse: 0.418261\n",
      "[9]\tvalid_0's rmse: 0.417778\n",
      "[10]\tvalid_0's rmse: 0.416641\n",
      "[11]\tvalid_0's rmse: 0.414758\n",
      "[12]\tvalid_0's rmse: 0.413402\n",
      "[13]\tvalid_0's rmse: 0.412608\n",
      "[14]\tvalid_0's rmse: 0.411733\n",
      "[15]\tvalid_0's rmse: 0.410929\n",
      "[16]\tvalid_0's rmse: 0.409883\n",
      "[17]\tvalid_0's rmse: 0.409756\n",
      "[18]\tvalid_0's rmse: 0.409289\n",
      "[19]\tvalid_0's rmse: 0.408957\n",
      "[20]\tvalid_0's rmse: 0.408724\n",
      "[21]\tvalid_0's rmse: 0.40843\n",
      "[22]\tvalid_0's rmse: 0.408065\n",
      "[23]\tvalid_0's rmse: 0.40784\n",
      "[24]\tvalid_0's rmse: 0.407489\n",
      "[25]\tvalid_0's rmse: 0.407389\n",
      "[26]\tvalid_0's rmse: 0.407029\n",
      "[27]\tvalid_0's rmse: 0.407362\n",
      "[28]\tvalid_0's rmse: 0.40718\n",
      "[29]\tvalid_0's rmse: 0.407196\n",
      "[30]\tvalid_0's rmse: 0.407395\n",
      "[31]\tvalid_0's rmse: 0.407201\n",
      "Early stopping, best iteration is:\n",
      "[26]\tvalid_0's rmse: 0.407029\n",
      "RMSE for iteration #10 is 0.40538828779.\n",
      "NL=117, MD=8, FF=0.989908300977, BF=0.890553596202, BQ=8, LR=0.69121020754, NE=100, ESR=5\n",
      "\n",
      "[1]\tvalid_0's rmse: 0.486758\n",
      "Training until validation scores don't improve for 5 rounds.\n",
      "[2]\tvalid_0's rmse: 0.441014\n",
      "[3]\tvalid_0's rmse: 0.429324\n",
      "[4]\tvalid_0's rmse: 0.42225\n",
      "[5]\tvalid_0's rmse: 0.420177\n",
      "[6]\tvalid_0's rmse: 0.417562\n",
      "[7]\tvalid_0's rmse: 0.416284\n",
      "[8]\tvalid_0's rmse: 0.415611\n",
      "[9]\tvalid_0's rmse: 0.413963\n",
      "[10]\tvalid_0's rmse: 0.413037\n",
      "[11]\tvalid_0's rmse: 0.411597\n",
      "[12]\tvalid_0's rmse: 0.411253\n",
      "[13]\tvalid_0's rmse: 0.410898\n",
      "[14]\tvalid_0's rmse: 0.409979\n",
      "[15]\tvalid_0's rmse: 0.409653\n",
      "[16]\tvalid_0's rmse: 0.408867\n",
      "[17]\tvalid_0's rmse: 0.408696\n",
      "[18]\tvalid_0's rmse: 0.408449\n",
      "[19]\tvalid_0's rmse: 0.408672\n",
      "[20]\tvalid_0's rmse: 0.408804\n",
      "[21]\tvalid_0's rmse: 0.409014\n",
      "[22]\tvalid_0's rmse: 0.409214\n",
      "[23]\tvalid_0's rmse: 0.409172\n",
      "Early stopping, best iteration is:\n",
      "[18]\tvalid_0's rmse: 0.408449\n",
      "RMSE for iteration #11 is 0.406970863459.\n",
      "NL=177, MD=9, FF=0.951536765527, BF=0.841635755124, BQ=5, LR=0.730604773188, NE=100, ESR=5\n",
      "\n",
      "[1]\tvalid_0's rmse: 0.543263\n",
      "Training until validation scores don't improve for 5 rounds.\n",
      "[2]\tvalid_0's rmse: 0.462661\n",
      "[3]\tvalid_0's rmse: 0.440326\n",
      "[4]\tvalid_0's rmse: 0.425473\n",
      "[5]\tvalid_0's rmse: 0.421906\n",
      "[6]\tvalid_0's rmse: 0.4161\n",
      "[7]\tvalid_0's rmse: 0.413662\n",
      "[8]\tvalid_0's rmse: 0.412449\n",
      "[9]\tvalid_0's rmse: 0.411329\n",
      "[10]\tvalid_0's rmse: 0.409451\n",
      "[11]\tvalid_0's rmse: 0.408946\n",
      "[12]\tvalid_0's rmse: 0.408162\n",
      "[13]\tvalid_0's rmse: 0.407346\n",
      "[14]\tvalid_0's rmse: 0.407189\n",
      "[15]\tvalid_0's rmse: 0.406831\n",
      "[16]\tvalid_0's rmse: 0.40642\n",
      "[17]\tvalid_0's rmse: 0.406143\n",
      "[18]\tvalid_0's rmse: 0.405832\n",
      "[19]\tvalid_0's rmse: 0.405451\n",
      "[20]\tvalid_0's rmse: 0.405152\n",
      "[21]\tvalid_0's rmse: 0.404918\n",
      "[22]\tvalid_0's rmse: 0.405164\n",
      "[23]\tvalid_0's rmse: 0.404898\n",
      "[24]\tvalid_0's rmse: 0.404689\n",
      "[25]\tvalid_0's rmse: 0.404721\n",
      "[26]\tvalid_0's rmse: 0.404626\n",
      "[27]\tvalid_0's rmse: 0.404789\n",
      "[28]\tvalid_0's rmse: 0.404745\n",
      "[29]\tvalid_0's rmse: 0.404619\n",
      "[30]\tvalid_0's rmse: 0.404721\n",
      "[31]\tvalid_0's rmse: 0.404522\n",
      "[32]\tvalid_0's rmse: 0.404124\n",
      "[33]\tvalid_0's rmse: 0.404246\n",
      "[34]\tvalid_0's rmse: 0.404287\n",
      "[35]\tvalid_0's rmse: 0.404275\n",
      "[36]\tvalid_0's rmse: 0.404041\n",
      "[37]\tvalid_0's rmse: 0.404372\n",
      "[38]\tvalid_0's rmse: 0.404366\n",
      "[39]\tvalid_0's rmse: 0.404468\n",
      "[40]\tvalid_0's rmse: 0.404447\n",
      "[41]\tvalid_0's rmse: 0.404498\n",
      "Early stopping, best iteration is:\n",
      "[36]\tvalid_0's rmse: 0.404041\n",
      "RMSE for iteration #12 is 0.402483550386.\n",
      "NL=183, MD=10, FF=0.758963601734, BF=0.801601131442, BQ=8, LR=0.567656738049, NE=100, ESR=5\n",
      "\n",
      "[1]\tvalid_0's rmse: 0.65364\n",
      "Training until validation scores don't improve for 5 rounds.\n",
      "[2]\tvalid_0's rmse: 0.563786\n",
      "[3]\tvalid_0's rmse: 0.509083\n",
      "[4]\tvalid_0's rmse: 0.476619\n",
      "[5]\tvalid_0's rmse: 0.457407\n",
      "[6]\tvalid_0's rmse: 0.443471\n",
      "[7]\tvalid_0's rmse: 0.435402\n",
      "[8]\tvalid_0's rmse: 0.428953\n",
      "[9]\tvalid_0's rmse: 0.424763\n",
      "[10]\tvalid_0's rmse: 0.421017\n",
      "[11]\tvalid_0's rmse: 0.41864\n",
      "[12]\tvalid_0's rmse: 0.416411\n",
      "[13]\tvalid_0's rmse: 0.414355\n",
      "[14]\tvalid_0's rmse: 0.41244\n",
      "[15]\tvalid_0's rmse: 0.411356\n",
      "[16]\tvalid_0's rmse: 0.410506\n",
      "[17]\tvalid_0's rmse: 0.408801\n",
      "[18]\tvalid_0's rmse: 0.408019\n",
      "[19]\tvalid_0's rmse: 0.407561\n",
      "[20]\tvalid_0's rmse: 0.406341\n",
      "[21]\tvalid_0's rmse: 0.405844\n"
     ]
    },
    {
     "name": "stdout",
     "output_type": "stream",
     "text": [
      "[22]\tvalid_0's rmse: 0.405382\n",
      "[23]\tvalid_0's rmse: 0.40505\n",
      "[24]\tvalid_0's rmse: 0.404104\n",
      "[25]\tvalid_0's rmse: 0.403735\n",
      "[26]\tvalid_0's rmse: 0.403345\n",
      "[27]\tvalid_0's rmse: 0.402744\n",
      "[28]\tvalid_0's rmse: 0.402115\n",
      "[29]\tvalid_0's rmse: 0.401714\n",
      "[30]\tvalid_0's rmse: 0.401499\n",
      "[31]\tvalid_0's rmse: 0.401147\n",
      "[32]\tvalid_0's rmse: 0.400716\n",
      "[33]\tvalid_0's rmse: 0.400325\n",
      "[34]\tvalid_0's rmse: 0.400248\n",
      "[35]\tvalid_0's rmse: 0.399614\n",
      "[36]\tvalid_0's rmse: 0.399522\n",
      "[37]\tvalid_0's rmse: 0.399344\n",
      "[38]\tvalid_0's rmse: 0.398952\n",
      "[39]\tvalid_0's rmse: 0.398793\n",
      "[40]\tvalid_0's rmse: 0.398558\n",
      "[41]\tvalid_0's rmse: 0.398313\n",
      "[42]\tvalid_0's rmse: 0.398122\n",
      "[43]\tvalid_0's rmse: 0.398071\n",
      "[44]\tvalid_0's rmse: 0.397875\n",
      "[45]\tvalid_0's rmse: 0.397569\n",
      "[46]\tvalid_0's rmse: 0.39737\n",
      "[47]\tvalid_0's rmse: 0.397256\n",
      "[48]\tvalid_0's rmse: 0.397247\n",
      "[49]\tvalid_0's rmse: 0.39726\n",
      "[50]\tvalid_0's rmse: 0.397062\n",
      "[51]\tvalid_0's rmse: 0.39673\n",
      "[52]\tvalid_0's rmse: 0.396594\n",
      "[53]\tvalid_0's rmse: 0.396383\n",
      "[54]\tvalid_0's rmse: 0.396275\n",
      "[55]\tvalid_0's rmse: 0.396193\n",
      "[56]\tvalid_0's rmse: 0.396021\n",
      "[57]\tvalid_0's rmse: 0.395853\n",
      "[58]\tvalid_0's rmse: 0.395891\n",
      "[59]\tvalid_0's rmse: 0.39593\n",
      "[60]\tvalid_0's rmse: 0.395901\n",
      "[61]\tvalid_0's rmse: 0.395729\n",
      "[62]\tvalid_0's rmse: 0.39569\n",
      "[63]\tvalid_0's rmse: 0.395679\n",
      "[64]\tvalid_0's rmse: 0.395562\n",
      "[65]\tvalid_0's rmse: 0.395523\n",
      "[66]\tvalid_0's rmse: 0.395348\n",
      "[67]\tvalid_0's rmse: 0.395289\n",
      "[68]\tvalid_0's rmse: 0.395235\n",
      "[69]\tvalid_0's rmse: 0.395143\n",
      "[70]\tvalid_0's rmse: 0.395075\n",
      "[71]\tvalid_0's rmse: 0.395033\n",
      "[72]\tvalid_0's rmse: 0.394956\n",
      "[73]\tvalid_0's rmse: 0.395076\n",
      "[74]\tvalid_0's rmse: 0.395068\n",
      "[75]\tvalid_0's rmse: 0.394996\n",
      "[76]\tvalid_0's rmse: 0.394904\n",
      "[77]\tvalid_0's rmse: 0.394846\n",
      "[78]\tvalid_0's rmse: 0.394873\n",
      "[79]\tvalid_0's rmse: 0.394831\n",
      "[80]\tvalid_0's rmse: 0.394722\n",
      "[81]\tvalid_0's rmse: 0.394608\n",
      "[82]\tvalid_0's rmse: 0.394604\n",
      "[83]\tvalid_0's rmse: 0.394654\n",
      "[84]\tvalid_0's rmse: 0.394582\n",
      "[85]\tvalid_0's rmse: 0.394407\n",
      "[86]\tvalid_0's rmse: 0.394478\n",
      "[87]\tvalid_0's rmse: 0.394489\n",
      "[88]\tvalid_0's rmse: 0.394448\n",
      "[89]\tvalid_0's rmse: 0.394347\n",
      "[90]\tvalid_0's rmse: 0.394295\n",
      "[91]\tvalid_0's rmse: 0.394245\n",
      "[92]\tvalid_0's rmse: 0.394125\n",
      "[93]\tvalid_0's rmse: 0.394146\n",
      "[94]\tvalid_0's rmse: 0.394148\n",
      "[95]\tvalid_0's rmse: 0.394166\n",
      "[96]\tvalid_0's rmse: 0.394155\n",
      "[97]\tvalid_0's rmse: 0.394191\n",
      "Early stopping, best iteration is:\n",
      "[92]\tvalid_0's rmse: 0.394125\n",
      "RMSE for iteration #13 is 0.392674585417.\n",
      "NL=140, MD=9, FF=0.918439001228, BF=0.898456938337, BQ=8, LR=0.281950059315, NE=100, ESR=5\n",
      "\n",
      "[1]\tvalid_0's rmse: 0.579806\n",
      "Training until validation scores don't improve for 5 rounds.\n",
      "[2]\tvalid_0's rmse: 0.489835\n",
      "[3]\tvalid_0's rmse: 0.453972\n",
      "[4]\tvalid_0's rmse: 0.436043\n",
      "[5]\tvalid_0's rmse: 0.428985\n",
      "[6]\tvalid_0's rmse: 0.422304\n",
      "[7]\tvalid_0's rmse: 0.41908\n",
      "[8]\tvalid_0's rmse: 0.41679\n",
      "[9]\tvalid_0's rmse: 0.414691\n",
      "[10]\tvalid_0's rmse: 0.413801\n",
      "[11]\tvalid_0's rmse: 0.411571\n",
      "[12]\tvalid_0's rmse: 0.410766\n",
      "[13]\tvalid_0's rmse: 0.409771\n",
      "[14]\tvalid_0's rmse: 0.408518\n",
      "[15]\tvalid_0's rmse: 0.408219\n",
      "[16]\tvalid_0's rmse: 0.407654\n",
      "[17]\tvalid_0's rmse: 0.407155\n",
      "[18]\tvalid_0's rmse: 0.406345\n",
      "[19]\tvalid_0's rmse: 0.406055\n",
      "[20]\tvalid_0's rmse: 0.405485\n",
      "[21]\tvalid_0's rmse: 0.405209\n",
      "[22]\tvalid_0's rmse: 0.404058\n",
      "[23]\tvalid_0's rmse: 0.403695\n",
      "[24]\tvalid_0's rmse: 0.403422\n",
      "[25]\tvalid_0's rmse: 0.403249\n",
      "[26]\tvalid_0's rmse: 0.403001\n",
      "[27]\tvalid_0's rmse: 0.402786\n",
      "[28]\tvalid_0's rmse: 0.402635\n",
      "[29]\tvalid_0's rmse: 0.402607\n",
      "[30]\tvalid_0's rmse: 0.402168\n",
      "[31]\tvalid_0's rmse: 0.401752\n",
      "[32]\tvalid_0's rmse: 0.401642\n",
      "[33]\tvalid_0's rmse: 0.401633\n",
      "[34]\tvalid_0's rmse: 0.401651\n",
      "[35]\tvalid_0's rmse: 0.401321\n",
      "[36]\tvalid_0's rmse: 0.400679\n",
      "[37]\tvalid_0's rmse: 0.400587\n",
      "[38]\tvalid_0's rmse: 0.400542\n",
      "[39]\tvalid_0's rmse: 0.400399\n",
      "[40]\tvalid_0's rmse: 0.399999\n",
      "[41]\tvalid_0's rmse: 0.399925\n",
      "[42]\tvalid_0's rmse: 0.399991\n",
      "[43]\tvalid_0's rmse: 0.399641\n",
      "[44]\tvalid_0's rmse: 0.399596\n",
      "[45]\tvalid_0's rmse: 0.399605\n",
      "[46]\tvalid_0's rmse: 0.399482\n",
      "[47]\tvalid_0's rmse: 0.399465\n",
      "[48]\tvalid_0's rmse: 0.399372\n",
      "[49]\tvalid_0's rmse: 0.399402\n",
      "[50]\tvalid_0's rmse: 0.399325\n",
      "[51]\tvalid_0's rmse: 0.399212\n",
      "[52]\tvalid_0's rmse: 0.399147\n",
      "[53]\tvalid_0's rmse: 0.399046\n",
      "[54]\tvalid_0's rmse: 0.399047\n",
      "[55]\tvalid_0's rmse: 0.398987\n",
      "[56]\tvalid_0's rmse: 0.399044\n",
      "[57]\tvalid_0's rmse: 0.398984\n",
      "[58]\tvalid_0's rmse: 0.399057\n",
      "[59]\tvalid_0's rmse: 0.399004\n",
      "[60]\tvalid_0's rmse: 0.398998\n",
      "[61]\tvalid_0's rmse: 0.398888\n",
      "[62]\tvalid_0's rmse: 0.398756\n",
      "[63]\tvalid_0's rmse: 0.398653\n",
      "[64]\tvalid_0's rmse: 0.398568\n",
      "[65]\tvalid_0's rmse: 0.39858\n",
      "[66]\tvalid_0's rmse: 0.398541\n",
      "[67]\tvalid_0's rmse: 0.398478\n",
      "[68]\tvalid_0's rmse: 0.398478\n",
      "[69]\tvalid_0's rmse: 0.398204\n",
      "[70]\tvalid_0's rmse: 0.398166\n",
      "[71]\tvalid_0's rmse: 0.39793\n",
      "[72]\tvalid_0's rmse: 0.397957\n",
      "[73]\tvalid_0's rmse: 0.397907\n",
      "[74]\tvalid_0's rmse: 0.397932\n",
      "[75]\tvalid_0's rmse: 0.39799\n",
      "[76]\tvalid_0's rmse: 0.397914\n",
      "[77]\tvalid_0's rmse: 0.398025\n",
      "[78]\tvalid_0's rmse: 0.397913\n",
      "Early stopping, best iteration is:\n",
      "[73]\tvalid_0's rmse: 0.397907\n",
      "RMSE for iteration #14 is 0.39688835103.\n",
      "NL=213, MD=8, FF=0.973837501952, BF=0.861989778024, BQ=4, LR=0.448639954365, NE=100, ESR=5\n",
      "\n",
      "[1]\tvalid_0's rmse: 0.469522\n",
      "Training until validation scores don't improve for 5 rounds.\n",
      "[2]\tvalid_0's rmse: 0.439526\n",
      "[3]\tvalid_0's rmse: 0.430945\n",
      "[4]\tvalid_0's rmse: 0.427843\n",
      "[5]\tvalid_0's rmse: 0.425542\n",
      "[6]\tvalid_0's rmse: 0.421989\n",
      "[7]\tvalid_0's rmse: 0.420255\n",
      "[8]\tvalid_0's rmse: 0.417768\n",
      "[9]\tvalid_0's rmse: 0.416636\n",
      "[10]\tvalid_0's rmse: 0.414241\n",
      "[11]\tvalid_0's rmse: 0.414184\n",
      "[12]\tvalid_0's rmse: 0.413971\n",
      "[13]\tvalid_0's rmse: 0.41391\n",
      "[14]\tvalid_0's rmse: 0.413449\n",
      "[15]\tvalid_0's rmse: 0.413714\n",
      "[16]\tvalid_0's rmse: 0.413472\n",
      "[17]\tvalid_0's rmse: 0.413464\n",
      "[18]\tvalid_0's rmse: 0.412797\n",
      "[19]\tvalid_0's rmse: 0.412754\n",
      "[20]\tvalid_0's rmse: 0.412566\n",
      "[21]\tvalid_0's rmse: 0.412235\n",
      "[22]\tvalid_0's rmse: 0.412023\n",
      "[23]\tvalid_0's rmse: 0.41212\n",
      "[24]\tvalid_0's rmse: 0.412063\n",
      "[25]\tvalid_0's rmse: 0.411983\n",
      "[26]\tvalid_0's rmse: 0.412123\n",
      "[27]\tvalid_0's rmse: 0.412158\n",
      "[28]\tvalid_0's rmse: 0.411765\n",
      "[29]\tvalid_0's rmse: 0.411714\n",
      "[30]\tvalid_0's rmse: 0.411394\n",
      "[31]\tvalid_0's rmse: 0.411389\n",
      "[32]\tvalid_0's rmse: 0.411451\n",
      "[33]\tvalid_0's rmse: 0.411341\n",
      "[34]\tvalid_0's rmse: 0.411314\n",
      "[35]\tvalid_0's rmse: 0.411485\n",
      "[36]\tvalid_0's rmse: 0.411199\n",
      "[37]\tvalid_0's rmse: 0.410951\n",
      "[38]\tvalid_0's rmse: 0.411084\n",
      "[39]\tvalid_0's rmse: 0.410952\n",
      "[40]\tvalid_0's rmse: 0.411195\n",
      "[41]\tvalid_0's rmse: 0.411387\n",
      "[42]\tvalid_0's rmse: 0.411396\n",
      "Early stopping, best iteration is:\n",
      "[37]\tvalid_0's rmse: 0.410951\n",
      "RMSE for iteration #15 is 0.409754891349.\n",
      "NL=122, MD=8, FF=0.993007404599, BF=0.862182286779, BQ=3, LR=0.846172886209, NE=100, ESR=5\n",
      "\n"
     ]
    }
   ],
   "source": [
    "# Create an empty dataframe to contain all of the inputs for each iteration of the model\n",
    "results_lgb = pd.DataFrame(columns=[\"RMSE\",\n",
    "                                    \"num_leaves\", \n",
    "                                    \"max_depth\", \n",
    "                                    \"feature_fraction\",\n",
    "                                    \"bagging_fraction\",\n",
    "                                    \"bagging_freq\",\n",
    "                                    \"learning_rate\"])\n",
    "for i in range(num_iterations):\n",
    "    \n",
    "    num_leaves = np.random.randint(100,250)\n",
    "    max_depth = np.random.randint(6,12)\n",
    "    feature_fraction = np.random.uniform(0.7,1)\n",
    "    bagging_fraction = np.random.uniform(0.8,1)\n",
    "    bagging_freq = np.random.randint(3,10)\n",
    "    learning_rate = np.random.uniform(0.2,1)\n",
    "    n_estimators = 100\n",
    "    early_stopping_rounds = 5\n",
    "\n",
    "    gbm = lgb.LGBMRegressor(objective = 'regression',\n",
    "                            boosting_type = 'gbdt',\n",
    "                            num_leaves = num_leaves,\n",
    "                            max_depth = max_depth,\n",
    "                            feature_fraction = feature_fraction,\n",
    "                            bagging_fraction = bagging_fraction,\n",
    "                            bagging_freq = bagging_freq,\n",
    "                            learning_rate = learning_rate,\n",
    "                            n_estimators = n_estimators)\n",
    "    \n",
    "    gbm.fit(x_train.values, y_train.values.ravel(),\n",
    "            eval_set = [(x_test.values, y_test.values.ravel())],\n",
    "            eval_metric = 'rmse',\n",
    "            early_stopping_rounds = early_stopping_rounds)\n",
    "\n",
    "    y_preds_gbm = gbm.predict(x_testFinal, num_iteration = gbm.best_iteration_)\n",
    "    RMSE_gbm = np.sqrt(mean_squared_error(y_testFinal, y_preds_gbm))\n",
    "    print(\"RMSE for iteration #{} is {}.\".format(i+1, RMSE_gbm))\n",
    "    print(\"NL={}, MD={}, FF={}, BF={}, BQ={}, LR={}, NE={}, ESR={}\".format(num_leaves,\n",
    "                                                                           max_depth,\n",
    "                                                                           feature_fraction,\n",
    "                                                                           bagging_fraction,\n",
    "                                                                           bagging_freq,\n",
    "                                                                           learning_rate,\n",
    "                                                                           n_estimators,\n",
    "                                                                           early_stopping_rounds))\n",
    "    print\n",
    "    initial_preds[RMSE_gbm] = y_preds_gbm\n",
    "    testFinal_preds_gbm = gbm.predict(testFinal, num_iteration = gbm.best_iteration_)\n",
    "    final_preds[RMSE_gbm] = [testFinal_preds_gbm]\n",
    "    \n",
    "    # Create a dataframe with the values above\n",
    "    new_row = pd.DataFrame([[RMSE_gbm,\n",
    "                             num_leaves, \n",
    "                             max_depth, \n",
    "                             feature_fraction,\n",
    "                             bagging_fraction,\n",
    "                             bagging_freq,\n",
    "                             learning_rate]],\n",
    "                     columns = [\"RMSE\",\n",
    "                                \"num_leaves\", \n",
    "                                \"max_depth\", \n",
    "                                \"feature_fraction\",\n",
    "                                \"bagging_fraction\",\n",
    "                                \"bagging_freq\",\n",
    "                                \"learning_rate\"])\n",
    "    \n",
    "    # Append the dataframe as a new row in results_df\n",
    "    results_lgb = results_lgb.append(new_row, ignore_index=True)"
   ]
  },
  {
   "cell_type": "code",
   "execution_count": null,
   "metadata": {
    "collapsed": true
   },
   "outputs": [],
   "source": []
  }
 ],
 "metadata": {
  "kernelspec": {
   "display_name": "Python 2",
   "language": "python",
   "name": "python2"
  },
  "language_info": {
   "codemirror_mode": {
    "name": "ipython",
    "version": 2
   },
   "file_extension": ".py",
   "mimetype": "text/x-python",
   "name": "python",
   "nbconvert_exporter": "python",
   "pygments_lexer": "ipython2",
   "version": "2.7.11"
  }
 },
 "nbformat": 4,
 "nbformat_minor": 2
}
